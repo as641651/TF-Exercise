{
 "cells": [
  {
   "cell_type": "markdown",
   "metadata": {},
   "source": [
    "## Train and Monitor"
   ]
  },
  {
   "cell_type": "code",
   "execution_count": 1,
   "metadata": {},
   "outputs": [
    {
     "name": "stderr",
     "output_type": "stream",
     "text": [
      "/usr/lib/python3.4/importlib/_bootstrap.py:321: FutureWarning: Conversion of the second argument of issubdtype from `float` to `np.floating` is deprecated. In future, it will be treated as `np.float64 == np.dtype(float).type`.\n",
      "  return f(*args, **kwds)\n"
     ]
    }
   ],
   "source": [
    "import tensorflow as tf"
   ]
  },
  {
   "cell_type": "markdown",
   "metadata": {},
   "source": [
    "### Utilities"
   ]
  },
  {
   "cell_type": "code",
   "execution_count": 2,
   "metadata": {},
   "outputs": [],
   "source": [
    "def run_tf(x):\n",
    "    \n",
    "    config = tf.ConfigProto()\n",
    "    config.gpu_options.allow_growth=True\n",
    "    with tf.Session(config=config) as sess: \n",
    "        sess.run(tf.global_variables_initializer())\n",
    "        coord = tf.train.Coordinator()\n",
    "        threads = tf.train.start_queue_runners(coord=coord)\n",
    "\n",
    "        out = sess.run(x)\n",
    "\n",
    "        coord.request_stop()\n",
    "        coord.join(threads)\n",
    "        \n",
    "        return out"
   ]
  },
  {
   "cell_type": "markdown",
   "metadata": {},
   "source": [
    "### Get the data"
   ]
  },
  {
   "cell_type": "code",
   "execution_count": 3,
   "metadata": {},
   "outputs": [],
   "source": [
    "filename_q = tf.train.string_input_producer([\"50_Startups.csv\"])\n",
    "reader = tf.TextLineReader(skip_header_lines=1)\n",
    "key, value = reader.read(filename_q)\n",
    "\n",
    "col1, col2, col3, col4, y_ = tf.decode_csv(value, record_defaults=[[1.], [1.], [1.], [\"na\"], [1.]])\n",
    "x_ = tf.stack([col1, col2, col3])\n",
    "\n",
    "min_after_dequeue = 50\n",
    "batch_size = 5\n",
    "capacity = min_after_dequeue + 3 * batch_size\n",
    "\n",
    "X_, Y_ = tf.train.shuffle_batch( [x_, y_], batch_size=batch_size, capacity=capacity,\n",
    "                                min_after_dequeue=min_after_dequeue)\n",
    "\n",
    "Y_ = tf.reshape(Y_,[batch_size,1])"
   ]
  },
  {
   "cell_type": "code",
   "execution_count": 4,
   "metadata": {},
   "outputs": [
    {
     "data": {
      "text/plain": [
       "[array([[ 61136.38, 152701.92,  88218.23],\n",
       "        [162597.7 , 151377.6 , 443898.53],\n",
       "        [ 66051.52, 182645.56, 118148.2 ],\n",
       "        [100671.96,  91790.61, 249744.55],\n",
       "        [     0.  , 116983.8 ,  45173.06]], dtype=float32), array([[ 97483.56],\n",
       "        [191792.06],\n",
       "        [103282.38],\n",
       "        [144259.4 ],\n",
       "        [ 14681.4 ]], dtype=float32)]"
      ]
     },
     "execution_count": 4,
     "metadata": {},
     "output_type": "execute_result"
    }
   ],
   "source": [
    "o = run_tf([X_,Y_])\n",
    "o"
   ]
  },
  {
   "cell_type": "markdown",
   "metadata": {},
   "source": [
    "### Perceptron 1-layer"
   ]
  },
  {
   "cell_type": "code",
   "execution_count": 6,
   "metadata": {},
   "outputs": [
    {
     "data": {
      "text/plain": [
       "<tf.Tensor 'P1/W:0' shape=() dtype=string>"
      ]
     },
     "execution_count": 6,
     "metadata": {},
     "output_type": "execute_result"
    }
   ],
   "source": [
    "W = tf.Variable(tf.constant(0.1,shape=[3,1],dtype=tf.float32),name=\"W\")\n",
    "tf.summary.histogram(\"P1/W\",W)"
   ]
  },
  {
   "cell_type": "code",
   "execution_count": 7,
   "metadata": {},
   "outputs": [
    {
     "data": {
      "text/plain": [
       "<tf.Tensor 'P1/Y:0' shape=() dtype=string>"
      ]
     },
     "execution_count": 7,
     "metadata": {},
     "output_type": "execute_result"
    }
   ],
   "source": [
    "H = tf.matmul(X_,W)\n",
    "Y = tf.nn.relu(H)\n",
    "tf.summary.histogram(\"P1/Y\",Y)"
   ]
  },
  {
   "cell_type": "markdown",
   "metadata": {},
   "source": [
    "** Mean Squared Error **"
   ]
  },
  {
   "cell_type": "code",
   "execution_count": 8,
   "metadata": {},
   "outputs": [
    {
     "data": {
      "text/plain": [
       "<tf.Tensor 'MSE:0' shape=() dtype=string>"
      ]
     },
     "execution_count": 8,
     "metadata": {},
     "output_type": "execute_result"
    }
   ],
   "source": [
    "mse = tf.losses.mean_squared_error(Y_,Y)\n",
    "tf.summary.scalar(\"P1/MSE\",mse)"
   ]
  },
  {
   "cell_type": "markdown",
   "metadata": {},
   "source": [
    "** Train**"
   ]
  },
  {
   "cell_type": "code",
   "execution_count": 9,
   "metadata": {},
   "outputs": [],
   "source": [
    "train_op = tf.train.AdamOptimizer(0.001)"
   ]
  },
  {
   "cell_type": "markdown",
   "metadata": {},
   "source": [
    "**Getting the gradient values**\n",
    "\n",
    "*train_op.compute_gradients* returns a list of **[(gradient,variable),..]** for all variables in the graph. If gradient is not computed for certain variable, gthe first arg will be None"
   ]
  },
  {
   "cell_type": "code",
   "execution_count": 10,
   "metadata": {},
   "outputs": [],
   "source": [
    "dummy = tf.Variable(0.,name=\"dummy\")\n",
    "gradients = train_op.compute_gradients(mse)\n"
   ]
  },
  {
   "cell_type": "code",
   "execution_count": 11,
   "metadata": {},
   "outputs": [
    {
     "data": {
      "text/plain": [
       "[(<tf.Tensor 'gradients/MatMul_grad/tuple/control_dependency_1:0' shape=(3, 1) dtype=float32>,\n",
       "  <tf.Variable 'W:0' shape=(3, 1) dtype=float32_ref>),\n",
       " (None, <tf.Variable 'dummy:0' shape=() dtype=float32_ref>)]"
      ]
     },
     "execution_count": 11,
     "metadata": {},
     "output_type": "execute_result"
    }
   ],
   "source": [
    "gradients"
   ]
  },
  {
   "cell_type": "code",
   "execution_count": 12,
   "metadata": {},
   "outputs": [
    {
     "data": {
      "text/plain": [
       "[[<tf.Tensor 'gradients/MatMul_grad/tuple/control_dependency_1:0' shape=(3, 1) dtype=float32>,\n",
       "  <tf.Variable 'W:0' shape=(3, 1) dtype=float32_ref>]]"
      ]
     },
     "execution_count": 12,
     "metadata": {},
     "output_type": "execute_result"
    }
   ],
   "source": [
    "## Getting those variables for which grad will be computed\n",
    "grad_to_compute = [[g,v] for g,v in gradients if g is not None]\n",
    "tf.summary.histogram(\"P1/gradient\",grad_to_compute)\n",
    "grad_to_compute"
   ]
  },
  {
   "cell_type": "code",
   "execution_count": 28,
   "metadata": {},
   "outputs": [
    {
     "data": {
      "text/plain": [
       "[[array([[-1.3153084e+10],\n",
       "         [-1.8475014e+10],\n",
       "         [-3.9256867e+10]], dtype=float32), array([[0.1],\n",
       "         [0.1],\n",
       "         [0.1]], dtype=float32)]]"
      ]
     },
     "execution_count": 28,
     "metadata": {},
     "output_type": "execute_result"
    }
   ],
   "source": [
    "run_tf(grad_to_compute)"
   ]
  },
  {
   "cell_type": "markdown",
   "metadata": {},
   "source": [
    "**Apply gradient update**"
   ]
  },
  {
   "cell_type": "code",
   "execution_count": 13,
   "metadata": {},
   "outputs": [],
   "source": [
    "apply_gradient_op = train_op.apply_gradients(gradients,global_step=tf.train.get_or_create_global_step())"
   ]
  },
  {
   "cell_type": "code",
   "execution_count": 14,
   "metadata": {},
   "outputs": [],
   "source": [
    "merged = tf.summary.merge_all()"
   ]
  },
  {
   "cell_type": "code",
   "execution_count": 15,
   "metadata": {},
   "outputs": [
    {
     "name": "stdout",
     "output_type": "stream",
     "text": [
      "0 MSE :  7694408000.0 [[53699.57 ]\n",
      " [59966.75 ]\n",
      " [20531.861]\n",
      " [27707.44 ]\n",
      " [75787.39 ]]\n",
      "1000 MSE :  314319360.0 [[147937.2 ]\n",
      " [ 93686.09]\n",
      " [ 77239.71]\n",
      " [140559.19]\n",
      " [131304.84]]\n",
      "2000 MSE :  231760420.0 [[ 18663.025]\n",
      " [131043.04 ]\n",
      " [200111.27 ]\n",
      " [119611.56 ]\n",
      " [ 82707.68 ]]\n",
      "3000 MSE :  59319230.0 [[160114.84 ]\n",
      " [201665.06 ]\n",
      " [ 92989.11 ]\n",
      " [120800.016]\n",
      " [ 46185.047]]\n",
      "4000 MSE :  205125230.0 [[ 91094.61]\n",
      " [127942.91]\n",
      " [118149.81]\n",
      " [132266.47]\n",
      " [111038.42]]\n",
      "5000 MSE :  331307360.0 [[167889.36 ]\n",
      " [127693.45 ]\n",
      " [ 41613.215]\n",
      " [ 41613.215]\n",
      " [131574.2  ]]\n",
      "6000 MSE :  189930860.0 [[138813.36 ]\n",
      " [155408.22 ]\n",
      " [ 91327.625]\n",
      " [158568.38 ]\n",
      " [118383.12 ]]\n",
      "7000 MSE :  69596410.0 [[102008.98 ]\n",
      " [103418.84 ]\n",
      " [ 56313.844]\n",
      " [113269.38 ]\n",
      " [103418.84 ]]\n",
      "8000 MSE :  211515120.0 [[ 41573.254]\n",
      " [ 91733.77 ]\n",
      " [106177.21 ]\n",
      " [202769.77 ]\n",
      " [ 77969.336]]\n",
      "9000 MSE :  316496060.0 [[112570.42 ]\n",
      " [158910.42 ]\n",
      " [158910.42 ]\n",
      " [203483.28 ]\n",
      " [ 69054.625]]\n"
     ]
    }
   ],
   "source": [
    "config = tf.ConfigProto()\n",
    "config.gpu_options.allow_growth=True\n",
    "with tf.Session(config=config) as sess: \n",
    "    \n",
    "    writer = tf.summary.FileWriter(\"log/Train&Monitor/P1\",sess.graph)\n",
    "    \n",
    "    sess.run(tf.global_variables_initializer())\n",
    "\n",
    "    coord = tf.train.Coordinator()\n",
    "    threads = tf.train.start_queue_runners(coord=coord)\n",
    "\n",
    "    for i in range(10000):\n",
    "        _,loss,summary,logit = sess.run([apply_gradient_op,mse,merged,Y])\n",
    "        writer.add_summary(summary,i)\n",
    "        if(i%1000 == 0):\n",
    "            print(i, \"MSE : \", loss,logit)\n",
    "\n",
    "    coord.request_stop()\n",
    "    coord.join(threads)"
   ]
  },
  {
   "cell_type": "markdown",
   "metadata": {},
   "source": [
    "### Perceptron 2-layer"
   ]
  },
  {
   "cell_type": "code",
   "execution_count": 4,
   "metadata": {},
   "outputs": [],
   "source": [
    "lr = tf.placeholder(tf.float32)\n",
    "W1 = tf.Variable(tf.truncated_normal(shape=[3,3],dtype=tf.float32),name=\"W1\")\n",
    "tf.summary.histogram(\"P2/W1\",W1)\n",
    "B1 = tf.Variable(tf.truncated_normal(shape=[3],dtype=tf.float32),name=\"B1\")\n",
    "tf.summary.histogram(\"P2/B1\",B1)\n",
    "\n",
    "W2 = tf.Variable(tf.truncated_normal(shape=[3,1],dtype=tf.float32),name=\"W2\")\n",
    "tf.summary.histogram(\"P2/W2\",W2)\n",
    "B2 = tf.Variable(tf.truncated_normal(shape=[1],dtype=tf.float32),name=\"B2\")\n",
    "tf.summary.histogram(\"P2/B2\",B2)\n",
    "\n",
    "H1 = tf.nn.relu(tf.matmul(X_,W1)+B1)\n",
    "tf.summary.histogram(\"P2/H1\",H1)\n",
    "Y = tf.nn.relu(tf.matmul(H1,W2)+B2)\n",
    "tf.summary.histogram(\"P2/Y\",Y)\n",
    "#Y = tf.matmul(H1,W2)+B2\n",
    "\n",
    "\n",
    "mse = tf.losses.mean_squared_error(Y_,Y)\n",
    "tf.summary.scalar(\"P2/MSE\",mse)\n",
    "\n",
    "#train_op = tf.train.AdamOptimizer(lr).minimize(mse)\n",
    "train_op = tf.train.AdamOptimizer(lr)\n",
    "gradients = train_op.compute_gradients(mse)\n",
    "\n",
    "grad_to_compute = [[g,v] for g,v in gradients if g is not None]\n",
    "for grad in grad_to_compute:\n",
    "    tf.summary.histogram(\"P2/gradient\",grad)\n",
    "\n",
    "apply_gradient_op = train_op.apply_gradients(gradients,global_step=tf.train.get_or_create_global_step())"
   ]
  },
  {
   "cell_type": "code",
   "execution_count": 5,
   "metadata": {},
   "outputs": [
    {
     "name": "stdout",
     "output_type": "stream",
     "text": [
      "0 MSE :  1.08e+10 [[1.455065e-01]\n",
      " [1.455065e-01]\n",
      " [1.455065e-01]\n",
      " [1.455065e-01]\n",
      " [1.115814e+05]]\n",
      "1000 MSE :  6.82e+08 [[ 16611.37]\n",
      " [110381.28]\n",
      " [ 70880.31]\n",
      " [132199.56]\n",
      " [122375.88]]\n",
      "2000 MSE :  1.82e+08 [[200857.17 ]\n",
      " [ 71996.28 ]\n",
      " [201574.53 ]\n",
      " [ 44010.746]\n",
      " [ 41142.59 ]]\n",
      "3000 MSE :  1.85e+08 [[131522.53 ]\n",
      " [139056.9  ]\n",
      " [ 41502.42 ]\n",
      " [112515.516]\n",
      " [203413.36 ]]\n",
      "4000 MSE :  2.11e+08 [[116195.96 ]\n",
      " [ 17457.367]\n",
      " [176261.86 ]\n",
      " [ 77515.19 ]\n",
      " [167555.16 ]]\n",
      "5000 MSE :  2.89e+08 [[112598.164]\n",
      " [102677.195]\n",
      " [ 64807.848]\n",
      " [177140.12 ]\n",
      " [ 41760.94 ]]\n",
      "6000 MSE :  1.59e+08 [[ 41261.496]\n",
      " [160887.44 ]\n",
      " [ 67876.9  ]\n",
      " [102319.93 ]\n",
      " [102319.93 ]]\n",
      "7000 MSE :  2.44e+08 [[ 91983.6 ]\n",
      " [176793.61]\n",
      " [ 69335.38]\n",
      " [ 51329.85]\n",
      " [161025.88]]\n",
      "8000 MSE :  2.18e+08 [[176745.67 ]\n",
      " [117906.234]\n",
      " [ 63122.574]\n",
      " [ 78985.484]\n",
      " [ 77843.52 ]]\n",
      "9000 MSE :  1.39e+08 [[129467.734]\n",
      " [201936.58 ]\n",
      " [ 91644.73 ]\n",
      " [131147.72 ]\n",
      " [106025.43 ]]\n",
      "10000 MSE :  1.24e+08 [[ 78679.16 ]\n",
      " [122586.51 ]\n",
      " [101208.57 ]\n",
      " [ 69212.086]\n",
      " [101208.57 ]]\n",
      "11000 MSE :  1.76e+08 [[ 64992.48 ]\n",
      " [ 74211.37 ]\n",
      " [117721.305]\n",
      " [131930.08 ]\n",
      " [ 91792.586]]\n",
      "12000 MSE :  5.72e+08 [[ 70576.46 ]\n",
      " [ 42564.383]\n",
      " [ 52676.586]\n",
      " [ 42564.383]\n",
      " [124787.35 ]]\n",
      "13000 MSE :  1.16e+08 [[144100.94]\n",
      " [ 55631.24]\n",
      " [118410.82]\n",
      " [ 44147.05]\n",
      " [202733.62]]\n",
      "14000 MSE :  1.57e+08 [[160463.67 ]\n",
      " [143557.78 ]\n",
      " [ 17166.742]\n",
      " [154807.14 ]\n",
      " [ 63125.004]]\n",
      "15000 MSE :  2.08e+08 [[ 78460.11 ]\n",
      " [ 43864.336]\n",
      " [167435.42 ]\n",
      " [ 64610.684]\n",
      " [ 89439.07 ]]\n",
      "16000 MSE :  2.19e+08 [[132827.98 ]\n",
      " [ 78870.055]\n",
      " [ 74827.18 ]\n",
      " [158992.1  ]\n",
      " [160334.9  ]]\n",
      "17000 MSE :  1.74e+08 [[123639.336]\n",
      " [130439.53 ]\n",
      " [204136.72 ]\n",
      " [ 99898.18 ]\n",
      " [161865.3  ]]\n",
      "18000 MSE :  2.68e+08 [[ 17140.016]\n",
      " [ 78410.98 ]\n",
      " [ 64623.324]\n",
      " [162031.05 ]\n",
      " [ 63131.094]]\n",
      "19000 MSE :  2.37e+08 [[ 90974.77 ]\n",
      " [159308.84 ]\n",
      " [ 59978.79 ]\n",
      " [ 72875.82 ]\n",
      " [ 50688.844]]\n"
     ]
    }
   ],
   "source": [
    "merged = tf.summary.merge_all()\n",
    "\n",
    "config = tf.ConfigProto()\n",
    "config.gpu_options.allow_growth=True\n",
    "with tf.Session(config=config) as sess: \n",
    "    \n",
    "    writer = tf.summary.FileWriter(\"log/Train&Monitor/P2\",sess.graph)\n",
    "    \n",
    "    sess.run(tf.global_variables_initializer())\n",
    "    coord = tf.train.Coordinator()\n",
    "    threads = tf.train.start_queue_runners(coord=coord)\n",
    "\n",
    "    for i in range(20000):\n",
    "        _,loss,w1,logit,summary = sess.run([apply_gradient_op,mse,W1,Y,merged],feed_dict={lr:1e-3})\n",
    "        writer.add_summary(summary,i)\n",
    "        if(i%1000 == 0):\n",
    "            print(i, \"MSE : \", \"{:.2e}\".format(loss),logit)\n",
    "\n",
    "    coord.request_stop()\n",
    "    coord.join(threads)"
   ]
  },
  {
   "cell_type": "code",
   "execution_count": 6,
   "metadata": {},
   "outputs": [
    {
     "data": {
      "text/plain": [
       "array([[ 0.22525682,  0.79626054, -1.0879992 ],\n",
       "       [ 1.1515378 ,  1.3971967 , -0.3985752 ],\n",
       "       [-0.34762326, -0.27450502, -0.80606395]], dtype=float32)"
      ]
     },
     "execution_count": 6,
     "metadata": {},
     "output_type": "execute_result"
    }
   ],
   "source": [
    "w1"
   ]
  },
  {
   "cell_type": "code",
   "execution_count": null,
   "metadata": {},
   "outputs": [],
   "source": []
  }
 ],
 "metadata": {
  "kernelspec": {
   "display_name": "Python 3",
   "language": "python",
   "name": "python3"
  },
  "language_info": {
   "codemirror_mode": {
    "name": "ipython",
    "version": 3
   },
   "file_extension": ".py",
   "mimetype": "text/x-python",
   "name": "python",
   "nbconvert_exporter": "python",
   "pygments_lexer": "ipython3",
   "version": "3.4.3"
  }
 },
 "nbformat": 4,
 "nbformat_minor": 2
}
