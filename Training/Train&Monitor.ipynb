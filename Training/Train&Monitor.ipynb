{
 "cells": [
  {
   "cell_type": "markdown",
   "metadata": {},
   "source": [
    "## Train and Monitor"
   ]
  },
  {
   "cell_type": "code",
   "execution_count": 2,
   "metadata": {},
   "outputs": [],
   "source": [
    "import tensorflow as tf"
   ]
  },
  {
   "cell_type": "markdown",
   "metadata": {},
   "source": [
    "### Utilities"
   ]
  },
  {
   "cell_type": "code",
   "execution_count": 3,
   "metadata": {},
   "outputs": [],
   "source": [
    "def run_tf(x):\n",
    "    \n",
    "    config = tf.ConfigProto()\n",
    "    config.gpu_options.allow_growth=True\n",
    "    with tf.Session(config=config) as sess: \n",
    "        sess.run(tf.global_variables_initializer())\n",
    "        coord = tf.train.Coordinator()\n",
    "        threads = tf.train.start_queue_runners(coord=coord)\n",
    "\n",
    "        out = sess.run(x)\n",
    "\n",
    "        coord.request_stop()\n",
    "        coord.join(threads)\n",
    "        \n",
    "        return out"
   ]
  },
  {
   "cell_type": "markdown",
   "metadata": {},
   "source": [
    "### Get the data"
   ]
  },
  {
   "cell_type": "code",
   "execution_count": 35,
   "metadata": {},
   "outputs": [],
   "source": [
    "filename_q = tf.train.string_input_producer([\"50_Startups.csv\"])\n",
    "reader = tf.TextLineReader(skip_header_lines=1)\n",
    "key, value = reader.read(filename_q)\n",
    "\n",
    "col1, col2, col3, col4, y_ = tf.decode_csv(value, record_defaults=[[1.], [1.], [1.], [\"na\"], [1.]])\n",
    "x_ = tf.stack([col1, col2, col3])\n",
    "\n",
    "min_after_dequeue = 50\n",
    "batch_size = 5\n",
    "capacity = min_after_dequeue + 3 * batch_size\n",
    "\n",
    "X_, Y_ = tf.train.shuffle_batch( [x_, y_], batch_size=batch_size, capacity=capacity,\n",
    "                                min_after_dequeue=min_after_dequeue)\n",
    "\n",
    "Y_ = tf.reshape(Y_,[batch_size,1])"
   ]
  },
  {
   "cell_type": "code",
   "execution_count": 5,
   "metadata": {},
   "outputs": [
    {
     "data": {
      "text/plain": [
       "[array([[ 86419.7 , 153514.11,      0.  ]], dtype=float32),\n",
       " array([[122776.86]], dtype=float32)]"
      ]
     },
     "execution_count": 5,
     "metadata": {},
     "output_type": "execute_result"
    }
   ],
   "source": [
    "o = run_tf([X_,Y_])\n",
    "o"
   ]
  },
  {
   "cell_type": "markdown",
   "metadata": {},
   "source": [
    "### Perceptron 1-layer"
   ]
  },
  {
   "cell_type": "code",
   "execution_count": 6,
   "metadata": {},
   "outputs": [],
   "source": [
    "W = tf.Variable(tf.constant(0.1,shape=[3,1],dtype=tf.float32),name=\"W\")"
   ]
  },
  {
   "cell_type": "code",
   "execution_count": 7,
   "metadata": {},
   "outputs": [],
   "source": [
    "H = tf.matmul(X_,W)\n",
    "Y = tf.nn.relu(H)"
   ]
  },
  {
   "cell_type": "markdown",
   "metadata": {},
   "source": [
    "** Mean Squared Error **"
   ]
  },
  {
   "cell_type": "code",
   "execution_count": 8,
   "metadata": {},
   "outputs": [],
   "source": [
    "mse = tf.losses.mean_squared_error(Y_,Y)"
   ]
  },
  {
   "cell_type": "markdown",
   "metadata": {},
   "source": [
    "** Train**"
   ]
  },
  {
   "cell_type": "code",
   "execution_count": 21,
   "metadata": {},
   "outputs": [],
   "source": [
    "train_op = tf.train.GradientDescentOptimizer(1.)"
   ]
  },
  {
   "cell_type": "markdown",
   "metadata": {},
   "source": [
    "**Getting the gradient values**\n",
    "\n",
    "*train_op.compute_gradients* returns a list of **[(gradient,variable),..]** for all variables in the graph. If gradient is not computed for certain variable, gthe first arg will be None"
   ]
  },
  {
   "cell_type": "code",
   "execution_count": 22,
   "metadata": {},
   "outputs": [],
   "source": [
    "dummy = tf.Variable(0.,name=\"dummy\")\n",
    "gradients = train_op.compute_gradients(mse)"
   ]
  },
  {
   "cell_type": "code",
   "execution_count": 11,
   "metadata": {},
   "outputs": [
    {
     "data": {
      "text/plain": [
       "[(<tf.Tensor 'gradients/MatMul_grad/tuple/control_dependency_1:0' shape=(3, 1) dtype=float32>,\n",
       "  <tf.Variable 'W:0' shape=(3, 1) dtype=float32_ref>),\n",
       " (None, <tf.Variable 'dummy:0' shape=() dtype=float32_ref>)]"
      ]
     },
     "execution_count": 11,
     "metadata": {},
     "output_type": "execute_result"
    }
   ],
   "source": [
    "gradients"
   ]
  },
  {
   "cell_type": "code",
   "execution_count": 13,
   "metadata": {},
   "outputs": [
    {
     "data": {
      "text/plain": [
       "[[<tf.Tensor 'gradients/MatMul_grad/tuple/control_dependency_1:0' shape=(3, 1) dtype=float32>,\n",
       "  <tf.Variable 'W:0' shape=(3, 1) dtype=float32_ref>]]"
      ]
     },
     "execution_count": 13,
     "metadata": {},
     "output_type": "execute_result"
    }
   ],
   "source": [
    "## Getting those variables for which grad will be computed\n",
    "grad_to_compute = [[g,v] for g,v in gradients if g is not None] \n",
    "grad_to_compute"
   ]
  },
  {
   "cell_type": "code",
   "execution_count": 16,
   "metadata": {},
   "outputs": [
    {
     "data": {
      "text/plain": [
       "[[array([[-2.4960459e+10],\n",
       "         [-2.7878351e+10],\n",
       "         [-6.2043181e+10]], dtype=float32), array([[0.1],\n",
       "         [0.1],\n",
       "         [0.1]], dtype=float32)]]"
      ]
     },
     "execution_count": 16,
     "metadata": {},
     "output_type": "execute_result"
    }
   ],
   "source": [
    "run_tf(grad_to_compute)"
   ]
  },
  {
   "cell_type": "markdown",
   "metadata": {},
   "source": [
    "**Apply gradient update**"
   ]
  },
  {
   "cell_type": "code",
   "execution_count": 23,
   "metadata": {},
   "outputs": [],
   "source": [
    "apply_gradient_op = train_op.apply_gradients(gradients)"
   ]
  },
  {
   "cell_type": "code",
   "execution_count": 28,
   "metadata": {},
   "outputs": [
    {
     "name": "stdout",
     "output_type": "stream",
     "text": [
      "0 MSE :  3685812200.0\n",
      "1000 MSE :  8090847700.0\n",
      "2000 MSE :  23168422000.0\n",
      "3000 MSE :  15717729000.0\n",
      "4000 MSE :  11783545000.0\n",
      "5000 MSE :  12390589000.0\n",
      "6000 MSE :  18038462000.0\n",
      "7000 MSE :  24374240000.0\n",
      "8000 MSE :  9353366000.0\n",
      "9000 MSE :  16878437000.0\n"
     ]
    }
   ],
   "source": [
    "config = tf.ConfigProto()\n",
    "config.gpu_options.allow_growth=True\n",
    "with tf.Session(config=config) as sess: \n",
    "    sess.run(tf.global_variables_initializer())\n",
    "    coord = tf.train.Coordinator()\n",
    "    threads = tf.train.start_queue_runners(coord=coord)\n",
    "\n",
    "    for i in range(10000):\n",
    "        _,loss = sess.run([apply_gradient_op,mse])\n",
    "        if(i%1000 == 0):\n",
    "            print(i, \"MSE : \", loss)\n",
    "\n",
    "    coord.request_stop()\n",
    "    coord.join(threads)"
   ]
  },
  {
   "cell_type": "markdown",
   "metadata": {},
   "source": [
    "### Perceptron 2-layer"
   ]
  },
  {
   "cell_type": "code",
   "execution_count": 45,
   "metadata": {},
   "outputs": [],
   "source": [
    "lr = tf.placeholder(tf.float32)\n",
    "W1 = tf.Variable(tf.truncated_normal(shape=[3,3],dtype=tf.float32),name=\"W1\")\n",
    "B1 = tf.Variable(tf.truncated_normal(shape=[3],dtype=tf.float32),name=\"B1\")\n",
    "\n",
    "W2 = tf.Variable(tf.truncated_normal(shape=[3,1],dtype=tf.float32),name=\"W2\")\n",
    "B2 = tf.Variable(tf.truncated_normal(shape=[1],dtype=tf.float32),name=\"B2\")\n",
    "\n",
    "H1 = tf.nn.relu(tf.matmul(X_,W1)+B1)\n",
    "Y = tf.nn.relu(tf.matmul(H1,W2)+B2)\n",
    "\n",
    "mse = tf.losses.mean_squared_error(Y_,Y)\n",
    "\n",
    "train_op = tf.train.GradientDescentOptimizer(lr)\n",
    "gradients = train_op.compute_gradients(mse)\n",
    "apply_gradient_op = train_op.apply_gradients(gradients)"
   ]
  },
  {
   "cell_type": "code",
   "execution_count": 51,
   "metadata": {},
   "outputs": [
    {
     "name": "stdout",
     "output_type": "stream",
     "text": [
      "0 MSE :  2.11e+10\n",
      "1000 MSE :  8.64e+09\n",
      "2000 MSE :  1.60e+10\n",
      "3000 MSE :  7.14e+09\n",
      "4000 MSE :  1.37e+10\n",
      "5000 MSE :  1.15e+10\n",
      "6000 MSE :  9.45e+09\n",
      "7000 MSE :  1.14e+10\n",
      "8000 MSE :  9.84e+09\n",
      "9000 MSE :  1.25e+10\n",
      "10000 MSE :  1.43e+10\n",
      "11000 MSE :  1.24e+10\n",
      "12000 MSE :  9.89e+09\n",
      "13000 MSE :  1.42e+10\n",
      "14000 MSE :  1.13e+10\n",
      "15000 MSE :  9.00e+09\n",
      "16000 MSE :  1.14e+10\n",
      "17000 MSE :  1.21e+10\n",
      "18000 MSE :  1.20e+10\n",
      "19000 MSE :  1.20e+10\n"
     ]
    }
   ],
   "source": [
    "config = tf.ConfigProto()\n",
    "config.gpu_options.allow_growth=True\n",
    "with tf.Session(config=config) as sess: \n",
    "    sess.run(tf.global_variables_initializer())\n",
    "    coord = tf.train.Coordinator()\n",
    "    threads = tf.train.start_queue_runners(coord=coord)\n",
    "\n",
    "    for i in range(20000):\n",
    "        _,loss,w1 = sess.run([apply_gradient_op,mse,W1],feed_dict={lr:10.})\n",
    "        if(i%1000 == 0):\n",
    "            print(i, \"MSE : \", \"{:.2e}\".format(loss))\n",
    "\n",
    "    coord.request_stop()\n",
    "    coord.join(threads)"
   ]
  },
  {
   "cell_type": "code",
   "execution_count": 52,
   "metadata": {},
   "outputs": [
    {
     "data": {
      "text/plain": [
       "array([[-8.2221272e-04,  3.1148474e+11, -6.2223542e-01],\n",
       "       [-7.3724103e-01,  3.5655336e+11, -7.2242993e-01],\n",
       "       [-1.4682888e+00,  9.4279690e+11, -1.2156020e+00]], dtype=float32)"
      ]
     },
     "execution_count": 52,
     "metadata": {},
     "output_type": "execute_result"
    }
   ],
   "source": [
    "w1"
   ]
  },
  {
   "cell_type": "code",
   "execution_count": null,
   "metadata": {},
   "outputs": [],
   "source": []
  }
 ],
 "metadata": {
  "kernelspec": {
   "display_name": "Python 3",
   "language": "python",
   "name": "python3"
  },
  "language_info": {
   "codemirror_mode": {
    "name": "ipython",
    "version": 3
   },
   "file_extension": ".py",
   "mimetype": "text/x-python",
   "name": "python",
   "nbconvert_exporter": "python",
   "pygments_lexer": "ipython3",
   "version": "3.4.3"
  }
 },
 "nbformat": 4,
 "nbformat_minor": 2
}
