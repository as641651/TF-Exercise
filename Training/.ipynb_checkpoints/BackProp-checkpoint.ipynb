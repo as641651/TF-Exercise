{
 "cells": [
  {
   "cell_type": "markdown",
   "metadata": {},
   "source": [
    "## Back propogation algorithm"
   ]
  },
  {
   "cell_type": "markdown",
   "metadata": {},
   "source": [
    "Let,\n",
    "\n",
    "> **Weight** from *i*-th node of layer *(n-1)* to *k*-th node of layer *(n)* : $\\quad \\alpha_{ki}^{(n)}$\n",
    "\n",
    "> **Input** to *k*-th node of layer *(n)* : $\\quad z_{k}^{(n)} = \\alpha_{ki}^{(n)}y_{i}^{(n-1)}$\n",
    "\n",
    "> **Output** from *k*-th node of layer *(n)* : $\\quad y_{k}^{(n)} = f(z_{k}^{(n)})$\n",
    "\n",
    "> **Error** of output from last layer *(L)* : $\\quad E = E(\\textbf{y}^{(L)}) = \\frac{1}{2}\\sum_{j} (y_{j}^{(L)} - t_{j})^{2}$"
   ]
  },
  {
   "cell_type": "markdown",
   "metadata": {},
   "source": [
    "**Gradient** of Error w.r.t **inputs**\n",
    "\n",
    "Last layer : $\\mathbb{R}^{J} \\to \\mathbb{R}$\n",
    "\n",
    "> $\\color{red}{\\frac{\\partial E}{\\partial z_{j}^{(L)}}} = \\frac{\\partial E}{\\partial y_{j}^{(L)}}.\\frac{\\partial y_{j}^{(L)}}{\\partial z_{j}^{(L)}} \\qquad$ Where $\\quad \\textbf{z}^{(L)} \\in \\mathbb{R}^{J}$\n",
    "\n",
    ">$\\qquad = (y_{j}^{(L)} - t_{j})f^{\\prime}(z_{j}^{(L)})$"
   ]
  },
  {
   "cell_type": "markdown",
   "metadata": {},
   "source": [
    "Other layers:  $\\mathbb{R}^{I} \\to \\mathbb{R}^{K}$\n",
    "\n",
    "> $\\color{blue}{\\frac{\\partial E}{\\partial z_{i}^{(n)}}} = \\sum_{k}\\color{red}{\\frac{\\partial E}{\\partial z_{k}^{(n+1)}}}.\\frac{\\partial z_{k}^{(n+1)}}{\\partial y_{i}^{(n)}}.\\frac{\\partial y_{i}^{(n)}}{\\partial z_{i}^{(n)}} \\qquad$ Where $\\quad \\textbf{z}^{(n+1)} \\in \\mathbb{R}^{K}, \\quad \\textbf{z}^{(n)} \\in \\mathbb{R}^{I}$\n",
    "\n",
    "\n",
    "> $\\qquad = \\sum_{k}\\color{red}{\\frac{\\partial E}{\\partial z_{k}^{(n+1)}}}.\\alpha_{ki}^{(n+1)}.f^{\\prime}(z_{i}^{(n)}) $"
   ]
  },
  {
   "cell_type": "markdown",
   "metadata": {},
   "source": [
    "**Gradient** of Error w.r.t **weights** at layer *n*"
   ]
  },
  {
   "cell_type": "markdown",
   "metadata": {},
   "source": [
    "> $\\frac{\\partial E}{\\partial \\alpha_{ki}^{(n)}} = \\color{blue}{\\frac{\\partial E}{\\partial z_{k}^{(n)}}}.\\frac{\\partial z_{k}^{(n)}}{\\partial \\alpha_{ki}^{(n)}}$\n",
    "\n",
    "> $\\qquad = \\color{blue}{\\frac{\\partial E}{\\partial z_{k}^{(n)}}}.y_{i}^{(n-1)}$"
   ]
  },
  {
   "cell_type": "markdown",
   "metadata": {},
   "source": [
    "### Algorithm\n",
    "    \n",
    "$\\frac{\\partial E}{\\partial \\textbf{z}}$ &#8592; **L**'(y , t)\n",
    "\n",
    "**for** *k* = N,N-1,..,1 **do**\n",
    "> $\\frac{\\partial E}{\\partial \\textbf{z}}$ &#8592; $\\frac{\\partial E}{\\partial \\textbf{z}}.f^{\\prime}(\\textbf{z}^{(k)})$\n",
    "\n",
    "> $\\frac{\\partial E}{\\partial \\textbf{A}^{(k)}} = \\frac{\\partial E}{\\partial \\textbf{z}}.{\\textbf{y}^{(k-1)}}^{T} \\qquad$ [outer product]\n",
    "\n",
    "> $\\frac{\\partial E}{\\partial \\textbf{z}}$ &#8592; ${\\textbf{A}^{(k)}}^{T}\\frac{\\partial E}{\\partial \\textbf{z}}$\n",
    "\n",
    "Where $\\textbf{A}^{(k)}$ is the matrix containing weights in layer *k*\n"
   ]
  },
  {
   "cell_type": "code",
   "execution_count": null,
   "metadata": {},
   "outputs": [],
   "source": []
  }
 ],
 "metadata": {
  "kernelspec": {
   "display_name": "Python 3",
   "language": "python",
   "name": "python3"
  },
  "language_info": {
   "codemirror_mode": {
    "name": "ipython",
    "version": 3
   },
   "file_extension": ".py",
   "mimetype": "text/x-python",
   "name": "python",
   "nbconvert_exporter": "python",
   "pygments_lexer": "ipython3",
   "version": "3.4.3"
  }
 },
 "nbformat": 4,
 "nbformat_minor": 2
}
