{
 "cells": [
  {
   "cell_type": "markdown",
   "metadata": {},
   "source": [
    "## Variables++"
   ]
  },
  {
   "cell_type": "code",
   "execution_count": 2,
   "metadata": {},
   "outputs": [],
   "source": [
    "import tensorflow as tf"
   ]
  },
  {
   "cell_type": "markdown",
   "metadata": {},
   "source": [
    "**Remember** :\n",
    "\n",
    "> 1) Unlike **tf.Tensor** objects, a tf.Variable **exists outside the context** of a single **session.run** call.\n",
    "\n",
    "\n",
    "Running a random_normal **variable** twice inside a single session results in **same** tensor"
   ]
  },
  {
   "cell_type": "code",
   "execution_count": 39,
   "metadata": {},
   "outputs": [
    {
     "name": "stdout",
     "output_type": "stream",
     "text": [
      "<class 'tensorflow.python.ops.variables.Variable'>\n",
      "[[-19.541336   -28.22691     -2.2030735   -7.986059    18.54059   ]\n",
      " [-16.400259    -2.7918215  -15.317807    -4.3842964  -11.786547  ]\n",
      " [ -3.769667    -0.73408604 -13.577333     5.2931857    3.5903072 ]\n",
      " [ -5.531688     5.3157544    2.1627197    7.643427    14.587606  ]\n",
      " [ -2.7939727   13.4578495   -5.5723624   -1.6146291   -5.106126  ]]\n",
      "\n",
      "\n",
      "[[-19.541336   -28.22691     -2.2030735   -7.986059    18.54059   ]\n",
      " [-16.400259    -2.7918215  -15.317807    -4.3842964  -11.786547  ]\n",
      " [ -3.769667    -0.73408604 -13.577333     5.2931857    3.5903072 ]\n",
      " [ -5.531688     5.3157544    2.1627197    7.643427    14.587606  ]\n",
      " [ -2.7939727   13.4578495   -5.5723624   -1.6146291   -5.106126  ]]\n"
     ]
    }
   ],
   "source": [
    "a = tf.Variable(tf.random_normal((5,5),stddev=10))\n",
    "print(type(a))\n",
    "with tf.Session() as sess:\n",
    "    sess.run(tf.global_variables_initializer())\n",
    "    print(sess.run(a))\n",
    "    print(\"\\n\")\n",
    "    print(sess.run(a))"
   ]
  },
  {
   "cell_type": "markdown",
   "metadata": {},
   "source": [
    "Running a random_normal **tensor** twice inside a single session results in **different** tensor"
   ]
  },
  {
   "cell_type": "code",
   "execution_count": 38,
   "metadata": {},
   "outputs": [
    {
     "name": "stdout",
     "output_type": "stream",
     "text": [
      "<class 'tensorflow.python.framework.ops.Tensor'>\n",
      "[[-12.095316   -19.179733    16.508825    20.196169    -1.6113601 ]\n",
      " [ -0.34952822 -13.514059    10.722145     8.6426325   16.390068  ]\n",
      " [  2.8011203    5.361312    13.792969   -13.037939     0.87513894]\n",
      " [ -9.586614    -1.3128874    5.043994     2.4769793    1.1273385 ]\n",
      " [ -6.896705   -10.920546     0.9155273   11.730671    16.15398   ]]\n",
      "\n",
      "\n",
      "[[  2.5165787   -0.15862295   1.5446315    1.3036182    8.666128  ]\n",
      " [ -2.9253328   -5.0588713  -13.658653     9.858555     4.3592043 ]\n",
      " [  3.960938    -0.2106034    5.366193    -5.3971586   -3.018835  ]\n",
      " [ 11.434045    -0.99357975   1.8554324   10.310335    -3.1974974 ]\n",
      " [  6.6854024    5.03645    -12.78484      4.8240533   -2.6377544 ]]\n"
     ]
    }
   ],
   "source": [
    "a = tf.random_normal((5,5),stddev=10)\n",
    "print(type(a))\n",
    "with tf.Session() as sess:\n",
    "    sess.run(tf.global_variables_initializer())\n",
    "    print(sess.run(a))\n",
    "    print(\"\\n\")\n",
    "    print(sess.run(a))"
   ]
  },
  {
   "cell_type": "markdown",
   "metadata": {},
   "source": [
    "**Remember :**\n",
    ">2) Use variables when you want to **assign** a different value at later point in the code."
   ]
  },
  {
   "cell_type": "code",
   "execution_count": 55,
   "metadata": {},
   "outputs": [
    {
     "name": "stdout",
     "output_type": "stream",
     "text": [
      "6.0\n",
      "<class 'tensorflow.python.framework.ops.Tensor'>\n"
     ]
    }
   ],
   "source": [
    "a = tf.Variable(0.0)\n",
    "a = a.assign(6.0) ## a.assign returns a tensor\n",
    "sess = tf.Session()\n",
    "print(sess.run(a))\n",
    "print(type(a))\n"
   ]
  },
  {
   "cell_type": "markdown",
   "metadata": {},
   "source": [
    "### Creating variable with initializers\n",
    "\n",
    "**Remember:**\n",
    ">3) To create a variable without passing another tensor (as in the case of tf.Variable), use **tf.get_variable** and specify an initializer "
   ]
  },
  {
   "cell_type": "code",
   "execution_count": 78,
   "metadata": {},
   "outputs": [
    {
     "name": "stdout",
     "output_type": "stream",
     "text": [
      "<tf.Variable 'my_variable:0' shape=(5, 5) dtype=float32_ref>\n",
      "[[-10.074052    15.374702   -13.109313     2.9198332   -5.0673246 ]\n",
      " [ 11.362676     2.0989501   -0.9031617    7.300238   -10.754336  ]\n",
      " [  7.793518     5.240948     8.5001545   26.697239    11.904673  ]\n",
      " [ -7.2324896   -5.958517     1.7422043   22.733997     2.9671671 ]\n",
      " [  7.1833854   -8.81091     -3.3164783   -0.13703518   4.8521466 ]]\n"
     ]
    }
   ],
   "source": [
    "tf.reset_default_graph() ## This is needed to clear the \"my_variable\" tensor created before\n",
    "a = tf.get_variable(\"my_variable\", (5,5),initializer=tf.random_normal_initializer(stddev=10))\n",
    "print(a)\n",
    "with tf.Session() as sess:\n",
    "    sess.run(tf.global_variables_initializer())\n",
    "    print(sess.run(a))"
   ]
  },
  {
   "cell_type": "markdown",
   "metadata": {},
   "source": [
    "You can also pass a tensor to the initializer."
   ]
  },
  {
   "cell_type": "code",
   "execution_count": 76,
   "metadata": {},
   "outputs": [
    {
     "name": "stdout",
     "output_type": "stream",
     "text": [
      "[23 42]\n"
     ]
    }
   ],
   "source": [
    "tf.reset_default_graph()\n",
    "a = tf.get_variable(\"other_variable\", dtype=tf.int32,\n",
    "  initializer=tf.constant([23, 42])) ## Notice, shape is not specified as it can be obtained from initializer\n",
    "\n",
    "with tf.Session() as sess:\n",
    "    sess.run(tf.global_variables_initializer())\n",
    "    print(sess.run(a))"
   ]
  },
  {
   "cell_type": "code",
   "execution_count": 80,
   "metadata": {},
   "outputs": [
    {
     "name": "stdout",
     "output_type": "stream",
     "text": [
      "<tf.Variable 'my_variable:0' shape=() dtype=float32_ref>\n",
      "5.0\n"
     ]
    }
   ],
   "source": [
    "tf.reset_default_graph()\n",
    "a = tf.get_variable(\"my_variable\",initializer=tf.constant(5.0)) \n",
    "print(a)\n",
    "with tf.Session() as sess:\n",
    "    sess.run(tf.global_variables_initializer())\n",
    "    print(sess.run(a))"
   ]
  },
  {
   "cell_type": "markdown",
   "metadata": {},
   "source": [
    "### Variable collections"
   ]
  },
  {
   "cell_type": "code",
   "execution_count": 101,
   "metadata": {},
   "outputs": [
    {
     "name": "stdout",
     "output_type": "stream",
     "text": [
      "[<tf.Tensor 'Const_1:0' shape=() dtype=int32>, <tf.Tensor 'Const_2:0' shape=() dtype=int32>]\n",
      "[<tf.Variable 'Variable:0' shape=() dtype=int32_ref>, <tf.Variable 'b:0' shape=() dtype=float32_ref>]\n"
     ]
    }
   ],
   "source": [
    "tf.reset_default_graph()\n",
    "a = tf.Variable(tf.constant(1))\n",
    "b = tf.get_variable(\"b\",shape=())\n",
    "\n",
    "tf.add_to_collection(\"myc\",a)\n",
    "tf.add_to_collection(\"myc\",b)\n",
    "\n",
    "c = tf.constant(3)\n",
    "d = tf.constant(4)\n",
    "tf.add_to_collection(\"con\",c)\n",
    "tf.add_to_collection(\"con\",d)\n",
    "\n",
    "print(tf.get_collection(\"con\"))\n",
    "print(tf.get_collection(\"myc\"))"
   ]
  },
  {
   "cell_type": "code",
   "execution_count": 106,
   "metadata": {},
   "outputs": [
    {
     "name": "stdout",
     "output_type": "stream",
     "text": [
      "[<tf.Variable 'a:0' shape=(1,) dtype=float32_ref>, <tf.Variable 'b:0' shape=(1,) dtype=float32_ref>, <tf.Variable 'c:0' shape=(1,) dtype=float32_ref>, <tf.Variable 'd:0' shape=(1,) dtype=float32_ref>]\n",
      "\n",
      "\n",
      "[<tf.Variable 'c:0' shape=(1,) dtype=float32_ref>, <tf.Variable 'd:0' shape=(1,) dtype=float32_ref>]\n",
      "[b'a' b'b' b'c' b'd']\n"
     ]
    }
   ],
   "source": [
    "tf.reset_default_graph()\n",
    "a = tf.get_variable(\"a\",shape=(1,),trainable=False)\n",
    "b = tf.get_variable(\"b\",shape=(1,),trainable=False)\n",
    "c = tf.get_variable(\"c\",shape=(1,))\n",
    "d = tf.get_variable(\"d\",shape=(1,))\n",
    "\n",
    "print(tf.get_collection(tf.GraphKeys.GLOBAL_VARIABLES))\n",
    "print(\"\\n\")\n",
    "print(tf.get_collection(tf.GraphKeys.TRAINABLE_VARIABLES))\n",
    "\n",
    "\n"
   ]
  },
  {
   "cell_type": "markdown",
   "metadata": {},
   "source": [
    "### Initializing variables\n",
    "\n",
    "Apart from **tf.global_variable_initializer**, it is also possible to initialize variables individually"
   ]
  },
  {
   "cell_type": "code",
   "execution_count": 114,
   "metadata": {},
   "outputs": [
    {
     "name": "stdout",
     "output_type": "stream",
     "text": [
      "Uninit var in sess : [b'a' b'b' b'c' b'd']\n",
      "Unint var in sess : [b'b' b'd']\n",
      "Uninit var outside sess : [b'a' b'b' b'c' b'd']\n"
     ]
    }
   ],
   "source": [
    "with tf.Session() as sess:\n",
    "   print( \"Uninit var in sess :\", sess.run(tf.report_uninitialized_variables()))\n",
    "   sess.run(a.initializer)\n",
    "   sess.run(c.initializer)\n",
    "   print(\"Unint var in sess :\", sess.run(tf.report_uninitialized_variables()))\n",
    "    \n",
    "print(\"Uninit var outside sess :\", tf.Session().run(tf.report_uninitialized_variables()))"
   ]
  },
  {
   "cell_type": "markdown",
   "metadata": {},
   "source": [
    "### Variable scope\n",
    "\n",
    "**Remember :**\n",
    ">4) To create new variables with same piece of code, use **tf.variable_scope**"
   ]
  },
  {
   "cell_type": "code",
   "execution_count": 124,
   "metadata": {},
   "outputs": [
    {
     "name": "stdout",
     "output_type": "stream",
     "text": [
      "Uninit variables : [b'conv1/weights' b'conv1/biases' b'conv2/weights' b'conv2/biases']\n",
      "Output shape : (5, 5, 32, 32)\n"
     ]
    }
   ],
   "source": [
    "tf.reset_default_graph()\n",
    "\n",
    "def conv_relu(input, kernel_shape, bias_shape):\n",
    "    # Create variable named \"weights\".\n",
    "    weights = tf.get_variable(\"weights\", kernel_shape,\n",
    "        initializer=tf.random_normal_initializer())\n",
    "    # Create variable named \"biases\".\n",
    "    biases = tf.get_variable(\"biases\", bias_shape,\n",
    "        initializer=tf.constant_initializer(0.0))\n",
    "    conv = tf.nn.conv2d(input, weights,\n",
    "        strides=[1, 1, 1, 1], padding='SAME')\n",
    "    return tf.nn.relu(conv + biases)\n",
    "\n",
    "def my_image_filter(input_images):\n",
    "    with tf.variable_scope(\"conv1\"):\n",
    "        # Variables created here will be named \"conv1/weights\", \"conv1/biases\".\n",
    "        relu1 = conv_relu(input_images, [5, 5, 32, 32], [32])\n",
    "    with tf.variable_scope(\"conv2\"):\n",
    "        # Variables created here will be named \"conv2/weights\", \"conv2/biases\".\n",
    "        return conv_relu(relu1, [5, 5, 32, 32], [32])\n",
    "\n",
    "x = tf.random_normal((5,5,32,32))\n",
    "ret = my_image_filter(x)\n",
    "\n",
    "with tf.Session() as sess:\n",
    "    print(\"Uninit variables :\", sess.run(tf.report_uninitialized_variables()))\n",
    "    sess.run(tf.global_variables_initializer())\n",
    "    print(\"Output shape :\", sess.run(ret).shape)"
   ]
  },
  {
   "cell_type": "markdown",
   "metadata": {},
   "source": [
    "**Remember :**\n",
    ">5) To reuse varibales from a scope, set **reuse=True** in **tf.variable_scope** "
   ]
  },
  {
   "cell_type": "code",
   "execution_count": 134,
   "metadata": {},
   "outputs": [
    {
     "name": "stdout",
     "output_type": "stream",
     "text": [
      "Uninit variables : [b'model/conv1/weights' b'model/conv1/biases' b'model/conv2/weights'\n",
      " b'model/conv2/biases']\n"
     ]
    }
   ],
   "source": [
    "tf.reset_default_graph()\n",
    "input1 = tf.random_normal((5,5,32,32))\n",
    "input2 = tf.random_normal((5,5,32,32))\n",
    "\n",
    "with tf.variable_scope(\"model\"):\n",
    "  output1 = my_image_filter(input1)\n",
    "with tf.variable_scope(\"model\", reuse=True):\n",
    "  output2 = my_image_filter(input2)\n",
    "\n",
    "with tf.Session() as sess:\n",
    "    print(\"Uninit variables :\", sess.run(tf.report_uninitialized_variables()))"
   ]
  },
  {
   "cell_type": "markdown",
   "metadata": {},
   "source": [
    "One can also set **scope.reuse_variables()** to achieve the same use case"
   ]
  },
  {
   "cell_type": "code",
   "execution_count": 135,
   "metadata": {},
   "outputs": [],
   "source": [
    "tf.reset_default_graph()\n",
    "input1 = tf.random_normal((5,5,32,32))\n",
    "input2 = tf.random_normal((5,5,32,32))\n",
    "\n",
    "with tf.variable_scope(\"model2\") as scope:\n",
    "  output1 = my_image_filter(input1)\n",
    "  scope.reuse_variables()\n",
    "  output2 = my_image_filter(input2)\n"
   ]
  },
  {
   "cell_type": "code",
   "execution_count": null,
   "metadata": {},
   "outputs": [],
   "source": []
  }
 ],
 "metadata": {
  "kernelspec": {
   "display_name": "Python 3",
   "language": "python",
   "name": "python3"
  },
  "language_info": {
   "codemirror_mode": {
    "name": "ipython",
    "version": 3
   },
   "file_extension": ".py",
   "mimetype": "text/x-python",
   "name": "python",
   "nbconvert_exporter": "python",
   "pygments_lexer": "ipython3",
   "version": "3.4.3"
  }
 },
 "nbformat": 4,
 "nbformat_minor": 2
}
