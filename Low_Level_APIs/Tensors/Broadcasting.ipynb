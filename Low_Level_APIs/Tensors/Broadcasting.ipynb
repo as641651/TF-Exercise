{
 "cells": [
  {
   "cell_type": "markdown",
   "metadata": {},
   "source": [
    "## Broadcasting\n",
    "\n",
    "Rules for operating arrays of different dimensions"
   ]
  },
  {
   "cell_type": "code",
   "execution_count": 45,
   "metadata": {},
   "outputs": [],
   "source": [
    "import tensorflow as tf\n",
    "import numpy as np"
   ]
  },
  {
   "cell_type": "markdown",
   "metadata": {},
   "source": [
    "\n",
    "**Remember**\n",
    "\n",
    ">1) When operating on two arrays, NumPy compares their shapes element-wise. It starts with the trailing (right-most) dimensions, and works its way forward. Two dimensions are compatible when\n",
    "\n",
    ">>1) They are equal, or\n",
    "\n",
    ">>2) One of them is 1\n",
    "\n",
    "**Example :**\n",
    "\n",
    "    A      (2d array):  5 x 4\n",
    "    B      (1d array):      4\n",
    "    Result (2d array):  5 x 4\n",
    "\n",
    "    A      (2d array):  5 x 4\n",
    "    B      (1d array):      1\n",
    "    Result (2d array):  5 x 4\n",
    "\n",
    "    A      (1d array):      4\n",
    "    B      (1d array):      5\n",
    "    Result MISMATCH  :  WRONG\n",
    "\n",
    "    A      (2d array):  4 x 1\n",
    "    B      (1d array):      5\n",
    "    Result (2d array):  4 x 5\n",
    "\n",
    "    A      (4d array):  8 x 1 x 6 x 1\n",
    "    B      (3d array):      7 x 1 x 5\n",
    "    Result (4d array):  8 x 7 x 6 x 5\n",
    "\n",
    "    Image  (3d array): 256 x 256 x 3\n",
    "    Scale  (1d array):             3\n",
    "    Result (3d array): 256 x 256 x 3\n",
    "\n"
   ]
  },
  {
   "cell_type": "markdown",
   "metadata": {},
   "source": [
    "#### Illustration 1:\n",
    "\n",
    "    A      (2d array):  10 x 4\n",
    "    B      (1d array):      4\n",
    "    Result (2d array):  10 x 4\n"
   ]
  },
  {
   "cell_type": "code",
   "execution_count": 63,
   "metadata": {},
   "outputs": [
    {
     "name": "stdout",
     "output_type": "stream",
     "text": [
      "[[ 0 10 20 30]\n",
      " [ 0 10 20 30]\n",
      " [ 0 10 20 30]\n",
      " [ 0 10 20 30]\n",
      " [ 0 10 20 30]\n",
      " [ 0 10 20 30]\n",
      " [ 0 10 20 30]\n",
      " [ 0 10 20 30]\n",
      " [ 0 10 20 30]\n",
      " [ 0 10 20 30]] \n",
      "+\n",
      " [1, 2, 3, 4] \n",
      "=\n",
      " [[ 1 12 23 34]\n",
      " [ 1 12 23 34]\n",
      " [ 1 12 23 34]\n",
      " [ 1 12 23 34]\n",
      " [ 1 12 23 34]\n",
      " [ 1 12 23 34]\n",
      " [ 1 12 23 34]\n",
      " [ 1 12 23 34]\n",
      " [ 1 12 23 34]\n",
      " [ 1 12 23 34]]\n"
     ]
    }
   ],
   "source": [
    "a= np.tile(np.arange(0,40,10),(10,1))\n",
    "c = tf.convert_to_tensor(a,dtype=tf.int32)\n",
    "d = tf.constant([1,2,3,4],dtype=tf.int32)\n",
    "r = d+c\n",
    "print(a, \"\\n+\\n\", [1,2,3,4],\"\\n=\\n\",tf.Session().run(r))"
   ]
  },
  {
   "cell_type": "markdown",
   "metadata": {},
   "source": [
    "**Illustration 2:**\n",
    "\n",
    "    A      (2d array):  5 x 1\n",
    "    B      (1d array):      2\n",
    "    Result (2d array):  5 x 2\n",
    "    \n",
    "0  <span style=\"color:orange\">0</span> &nbsp;&nbsp;&nbsp;&nbsp;&nbsp;&nbsp;&nbsp;&nbsp;5 6<br>\n",
    "1  <span style=\"color:orange\">1</span>&nbsp;&nbsp;&nbsp;&nbsp;&nbsp;&nbsp;&nbsp;&nbsp;&nbsp;<span style=\"color:orange\">5</span> <span style=\"color:orange\">6</span><br> \n",
    "2  <span style=\"color:orange\">2</span>&nbsp;&nbsp;&nbsp; **+**&nbsp;&nbsp;&nbsp;<span style=\"color:orange\">5</span> <span style=\"color:orange\">6</span><br>\n",
    "3  <span style=\"color:orange\">3</span>&nbsp;&nbsp;&nbsp;&nbsp;&nbsp;&nbsp;&nbsp;&nbsp;&nbsp;<span style=\"color:orange\">5</span> <span style=\"color:orange\">6</span><br>\n",
    "4  <span style=\"color:orange\">4</span>&nbsp;&nbsp;&nbsp;&nbsp;&nbsp;&nbsp;&nbsp;&nbsp;&nbsp;<span style=\"color:orange\">5</span> <span style=\"color:orange\">6</span><br>"
   ]
  },
  {
   "cell_type": "code",
   "execution_count": 70,
   "metadata": {},
   "outputs": [
    {
     "name": "stdout",
     "output_type": "stream",
     "text": [
      "[0 1 2 3 4] \n",
      "+\n",
      " [5 6] \n",
      "=\n",
      " [[ 5  6]\n",
      " [ 6  7]\n",
      " [ 7  8]\n",
      " [ 8  9]\n",
      " [ 9 10]]\n"
     ]
    }
   ],
   "source": [
    "a= tf.range(0,5)\n",
    "b = tf.range(5,7)\n",
    "\n",
    "c = b+ tf.expand_dims(a, axis=1) \n",
    "print(np.arange(0,5), \"\\n+\\n\", np.arange(5,7),\"\\n=\\n\",tf.Session().run(c))"
   ]
  },
  {
   "cell_type": "markdown",
   "metadata": {},
   "source": [
    "**Remember**\n",
    ">2) Broadcasting rules work for *, - and / operations as well"
   ]
  },
  {
   "cell_type": "code",
   "execution_count": null,
   "metadata": {},
   "outputs": [],
   "source": []
  }
 ],
 "metadata": {
  "kernelspec": {
   "display_name": "Python 3",
   "language": "python",
   "name": "python3"
  },
  "language_info": {
   "codemirror_mode": {
    "name": "ipython",
    "version": 3
   },
   "file_extension": ".py",
   "mimetype": "text/x-python",
   "name": "python",
   "nbconvert_exporter": "python",
   "pygments_lexer": "ipython3",
   "version": "3.4.3"
  }
 },
 "nbformat": 4,
 "nbformat_minor": 2
}
