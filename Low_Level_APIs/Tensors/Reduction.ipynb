{
 "cells": [
  {
   "cell_type": "markdown",
   "metadata": {},
   "source": [
    "## Reduction"
   ]
  },
  {
   "cell_type": "code",
   "execution_count": 7,
   "metadata": {},
   "outputs": [],
   "source": [
    "import tensorflow as tf\n",
    "import numpy as np"
   ]
  },
  {
   "cell_type": "code",
   "execution_count": 41,
   "metadata": {},
   "outputs": [
    {
     "name": "stdout",
     "output_type": "stream",
     "text": [
      "[[0 1 2 3]\n",
      " [0 1 2 3]\n",
      " [0 1 2 3]\n",
      " [0 1 2 3]\n",
      " [0 1 2 3]]\n",
      "(5, 4)\n"
     ]
    }
   ],
   "source": [
    "a = np.tile(np.arange(0,4),(5,1))\n",
    "print(a)\n",
    "print(a.shape)"
   ]
  },
  {
   "cell_type": "markdown",
   "metadata": {},
   "source": [
    "### A) Reduce Sum"
   ]
  },
  {
   "cell_type": "markdown",
   "metadata": {},
   "source": [
    "<u>**Reduction with numpy**</u>\n",
    "\n",
    "**1) Sum all elements**"
   ]
  },
  {
   "cell_type": "code",
   "execution_count": 18,
   "metadata": {},
   "outputs": [
    {
     "name": "stdout",
     "output_type": "stream",
     "text": [
      "()\n",
      "30\n"
     ]
    }
   ],
   "source": [
    "print(np.sum(a).shape)\n",
    "print(np.sum(a))"
   ]
  },
  {
   "cell_type": "markdown",
   "metadata": {},
   "source": [
    "**2) Sum each column**\n",
    "\n",
    "Axis 0 is reduced"
   ]
  },
  {
   "cell_type": "code",
   "execution_count": 9,
   "metadata": {},
   "outputs": [
    {
     "name": "stdout",
     "output_type": "stream",
     "text": [
      "(4,)\n",
      "[ 0  5 10 15]\n"
     ]
    }
   ],
   "source": [
    "print(np.sum(a,axis=0).shape)\n",
    "print(np.sum(a,axis=0))"
   ]
  },
  {
   "cell_type": "markdown",
   "metadata": {},
   "source": [
    "**3) Sum each row**\n",
    "\n",
    "Axis 1 is reduced"
   ]
  },
  {
   "cell_type": "code",
   "execution_count": 10,
   "metadata": {},
   "outputs": [
    {
     "name": "stdout",
     "output_type": "stream",
     "text": [
      "(5,)\n",
      "[6 6 6 6 6]\n"
     ]
    }
   ],
   "source": [
    "print(np.sum(a,axis=1).shape)\n",
    "print(np.sum(a,axis=1))"
   ]
  },
  {
   "cell_type": "markdown",
   "metadata": {},
   "source": [
    "<u>**Reduction with tf**</u>"
   ]
  },
  {
   "cell_type": "code",
   "execution_count": 19,
   "metadata": {},
   "outputs": [
    {
     "name": "stdout",
     "output_type": "stream",
     "text": [
      "()\n"
     ]
    },
    {
     "data": {
      "text/plain": [
       "30"
      ]
     },
     "execution_count": 19,
     "metadata": {},
     "output_type": "execute_result"
    }
   ],
   "source": [
    "c = tf.convert_to_tensor(a)\n",
    "r = tf.reduce_sum(c)\n",
    "print(r.shape)\n",
    "tf.Session().run(r)"
   ]
  },
  {
   "cell_type": "code",
   "execution_count": 16,
   "metadata": {},
   "outputs": [
    {
     "name": "stdout",
     "output_type": "stream",
     "text": [
      "(4,)\n"
     ]
    },
    {
     "data": {
      "text/plain": [
       "array([ 0,  5, 10, 15])"
      ]
     },
     "execution_count": 16,
     "metadata": {},
     "output_type": "execute_result"
    }
   ],
   "source": [
    "c = tf.convert_to_tensor(a)\n",
    "r = tf.reduce_sum(c,axis=0)\n",
    "print(r.shape)\n",
    "tf.Session().run(r)"
   ]
  },
  {
   "cell_type": "code",
   "execution_count": 15,
   "metadata": {},
   "outputs": [
    {
     "name": "stdout",
     "output_type": "stream",
     "text": [
      "(5,)\n"
     ]
    },
    {
     "data": {
      "text/plain": [
       "array([6, 6, 6, 6, 6])"
      ]
     },
     "execution_count": 15,
     "metadata": {},
     "output_type": "execute_result"
    }
   ],
   "source": [
    "c = tf.convert_to_tensor(a)\n",
    "r = tf.reduce_sum(c,axis=1)\n",
    "print(r.shape)\n",
    "tf.Session().run(r)"
   ]
  },
  {
   "cell_type": "markdown",
   "metadata": {},
   "source": [
    "**Keepdims**\n",
    "\n",
    "Does not change the array dimension. The reduced dimension changes to 1."
   ]
  },
  {
   "cell_type": "code",
   "execution_count": 14,
   "metadata": {},
   "outputs": [
    {
     "name": "stdout",
     "output_type": "stream",
     "text": [
      "(1, 4)\n"
     ]
    },
    {
     "data": {
      "text/plain": [
       "array([[ 0,  5, 10, 15]])"
      ]
     },
     "execution_count": 14,
     "metadata": {},
     "output_type": "execute_result"
    }
   ],
   "source": [
    "c = tf.convert_to_tensor(a)\n",
    "r = tf.reduce_sum(c,axis=0,keepdims=True)\n",
    "print(r.shape)\n",
    "tf.Session().run(r)"
   ]
  },
  {
   "cell_type": "code",
   "execution_count": 17,
   "metadata": {},
   "outputs": [
    {
     "name": "stdout",
     "output_type": "stream",
     "text": [
      "(5, 1)\n"
     ]
    },
    {
     "data": {
      "text/plain": [
       "array([[6],\n",
       "       [6],\n",
       "       [6],\n",
       "       [6],\n",
       "       [6]])"
      ]
     },
     "execution_count": 17,
     "metadata": {},
     "output_type": "execute_result"
    }
   ],
   "source": [
    "c = tf.convert_to_tensor(a)\n",
    "r = tf.reduce_sum(c,axis=1,keepdims=True)\n",
    "print(r.shape)\n",
    "tf.Session().run(r)"
   ]
  },
  {
   "cell_type": "markdown",
   "metadata": {},
   "source": [
    "### B) Reduce Product"
   ]
  },
  {
   "cell_type": "markdown",
   "metadata": {},
   "source": [
    "<u>**Reduction with numpy**</u>"
   ]
  },
  {
   "cell_type": "code",
   "execution_count": 22,
   "metadata": {},
   "outputs": [
    {
     "name": "stdout",
     "output_type": "stream",
     "text": [
      "All : 0\n",
      "Cols : [  0   1  32 243]\n",
      "Rows : [0 0 0 0 0]\n"
     ]
    }
   ],
   "source": [
    "print(\"All :\", np.product(a))\n",
    "print(\"Cols :\", np.product(a,axis=0))\n",
    "print(\"Rows :\", np.product(a,axis=1))"
   ]
  },
  {
   "cell_type": "markdown",
   "metadata": {},
   "source": [
    "<u>**Reduction with tf**</u>"
   ]
  },
  {
   "cell_type": "code",
   "execution_count": 27,
   "metadata": {},
   "outputs": [
    {
     "name": "stdout",
     "output_type": "stream",
     "text": [
      "All : 0\n",
      "Cols : [  0   1  32 243]\n",
      "Rows : [0 0 0 0 0]\n"
     ]
    }
   ],
   "source": [
    "c = tf.convert_to_tensor(a)\n",
    "r1 = tf.reduce_prod(c)\n",
    "r2 = tf.reduce_prod(c,axis=0)\n",
    "r3 = tf.reduce_prod(c,axis=1)\n",
    "\n",
    "with tf.Session() as sess:\n",
    "    n1,n2,n3 = sess.run((r1,r2,r3))\n",
    "    \n",
    "print(\"All :\", n1)\n",
    "print(\"Cols :\", n2)\n",
    "print(\"Rows :\", n3)"
   ]
  },
  {
   "cell_type": "markdown",
   "metadata": {},
   "source": [
    "### C) Reduce_all\n",
    "\n",
    "Computes the \"**logical and**\" of **boolean tensor**"
   ]
  },
  {
   "cell_type": "code",
   "execution_count": 62,
   "metadata": {},
   "outputs": [
    {
     "name": "stdout",
     "output_type": "stream",
     "text": [
      "[[0 1 2 3]\n",
      " [0 1 2 3]\n",
      " [0 1 2 3]\n",
      " [0 1 2 3]\n",
      " [0 1 2 3]]\n"
     ]
    },
    {
     "data": {
      "text/plain": [
       "array([[False,  True, False,  True],\n",
       "       [False,  True, False,  True],\n",
       "       [False,  True, False,  True],\n",
       "       [False,  True, False,  True],\n",
       "       [False,  True, False,  True]])"
      ]
     },
     "execution_count": 62,
     "metadata": {},
     "output_type": "execute_result"
    }
   ],
   "source": [
    "print(a)\n",
    "ab = (a==1) + (a==3)\n",
    "c = tf.convert_to_tensor(ab)\n",
    "tf.Session().run(c)"
   ]
  },
  {
   "cell_type": "code",
   "execution_count": 64,
   "metadata": {},
   "outputs": [
    {
     "name": "stdout",
     "output_type": "stream",
     "text": [
      "All : False\n",
      "Cols : [False  True False  True]\n",
      "Rows : [False False False False False]\n"
     ]
    }
   ],
   "source": [
    "r1 = tf.reduce_all(c)\n",
    "r2 = tf.reduce_all(c,axis=0)\n",
    "r3 = tf.reduce_all(c,axis=1)\n",
    "\n",
    "with tf.Session() as sess:\n",
    "    n1,n2,n3 = sess.run((r1,r2,r3))\n",
    "    \n",
    "print(\"All :\", n1)\n",
    "print(\"Cols :\", n2)\n",
    "print(\"Rows :\", n3)"
   ]
  },
  {
   "cell_type": "markdown",
   "metadata": {},
   "source": [
    "### D) Reduce_any\n",
    "\n",
    "Computes the \"**logical or**\" of **boolean tensor**"
   ]
  },
  {
   "cell_type": "code",
   "execution_count": 65,
   "metadata": {},
   "outputs": [
    {
     "name": "stdout",
     "output_type": "stream",
     "text": [
      "All : True\n",
      "Cols : [False  True False  True]\n",
      "Rows : [ True  True  True  True  True]\n"
     ]
    }
   ],
   "source": [
    "r1 = tf.reduce_any(c)\n",
    "r2 = tf.reduce_any(c,axis=0)\n",
    "r3 = tf.reduce_any(c,axis=1)\n",
    "\n",
    "with tf.Session() as sess:\n",
    "    n1,n2,n3 = sess.run((r1,r2,r3))\n",
    "    \n",
    "print(\"All :\", n1)\n",
    "print(\"Cols :\", n2)\n",
    "print(\"Rows :\", n3)"
   ]
  },
  {
   "cell_type": "markdown",
   "metadata": {},
   "source": [
    "### E) Reduce_join\n",
    "\n",
    "For concatinating strings"
   ]
  },
  {
   "cell_type": "code",
   "execution_count": 66,
   "metadata": {},
   "outputs": [
    {
     "data": {
      "text/plain": [
       "<tf.Tensor 'ReduceJoin_9:0' shape=(2, 2) dtype=string>"
      ]
     },
     "execution_count": 66,
     "metadata": {},
     "output_type": "execute_result"
    }
   ],
   "source": [
    "a =  tf.constant([[\"a\", \"b\"], [\"c\", \"d\"]])\n",
    "\n",
    "tf.reduce_join(a, 0) #==> [\"ac\", \"bd\"]\n",
    "tf.reduce_join(a, 1) #==> [\"ab\", \"cd\"]\n",
    "tf.reduce_join(a, -2) #= tf.reduce_join(a, 0) ==> [\"ac\", \"bd\"]\n",
    "tf.reduce_join(a, -1) #= tf.reduce_join(a, 1) ==> [\"ab\", \"cd\"]\n",
    "tf.reduce_join(a, 0, keep_dims=True) #==> [[\"ac\", \"bd\"]]\n",
    "tf.reduce_join(a, 1, keep_dims=True) #==> [[\"ab\"], [\"cd\"]]\n",
    "tf.reduce_join(a, 0, separator=\".\") #==> [\"a.c\", \"b.d\"]\n",
    "tf.reduce_join(a, [0, 1]) #==> [\"acbd\"]\n",
    "tf.reduce_join(a, [1, 0]) #==> [\"abcd\"]\n",
    "tf.reduce_join(a, []) #==> [\"abcd\"]\n"
   ]
  },
  {
   "cell_type": "markdown",
   "metadata": {},
   "source": [
    "### F) Other reduction opertions:\n",
    "\n",
    "    1. tf.reduce_max\n",
    "    2. tf.reduce_min\n",
    "    3. tf.reduce_mean\n",
    "    4. tf.reduce_logsumexp    "
   ]
  },
  {
   "cell_type": "code",
   "execution_count": null,
   "metadata": {},
   "outputs": [],
   "source": []
  }
 ],
 "metadata": {
  "kernelspec": {
   "display_name": "Python 3",
   "language": "python",
   "name": "python3"
  },
  "language_info": {
   "codemirror_mode": {
    "name": "ipython",
    "version": 3
   },
   "file_extension": ".py",
   "mimetype": "text/x-python",
   "name": "python",
   "nbconvert_exporter": "python",
   "pygments_lexer": "ipython3",
   "version": "3.4.3"
  }
 },
 "nbformat": 4,
 "nbformat_minor": 2
}
