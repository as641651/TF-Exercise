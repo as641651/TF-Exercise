{
 "cells": [
  {
   "cell_type": "markdown",
   "metadata": {},
   "source": [
    "## Linear Algebra"
   ]
  },
  {
   "cell_type": "code",
   "execution_count": 22,
   "metadata": {},
   "outputs": [],
   "source": [
    "import tensorflow as tf\n",
    "import numpy as np\n",
    "np.set_printoptions(suppress=True) ## Supress printing in scientific notations\n",
    "np.set_printoptions(precision=2)"
   ]
  },
  {
   "cell_type": "markdown",
   "metadata": {},
   "source": [
    "### 1) SVD\n",
    "\n",
    "#### Arbitrary square matix\n"
   ]
  },
  {
   "cell_type": "code",
   "execution_count": 59,
   "metadata": {},
   "outputs": [
    {
     "data": {
      "text/plain": [
       "array([[ 0,  1,  2,  3,  4],\n",
       "       [ 5,  6,  7,  8,  9],\n",
       "       [10, 11, 12, 13, 14],\n",
       "       [15, 16, 17, 18, 19],\n",
       "       [20, 21, 22, 23, 24]])"
      ]
     },
     "execution_count": 59,
     "metadata": {},
     "output_type": "execute_result"
    }
   ],
   "source": [
    "a = np.arange(0,25).reshape(5,5)\n",
    "a"
   ]
  },
  {
   "cell_type": "code",
   "execution_count": 60,
   "metadata": {},
   "outputs": [
    {
     "name": "stdout",
     "output_type": "stream",
     "text": [
      "s =  [69.91  3.58  0.    0.    0.  ] \n",
      "\n",
      "U =  [[ 0.07  0.77  0.    0.63  0.02]\n",
      " [ 0.23  0.5  -0.36 -0.61 -0.44]\n",
      " [ 0.39  0.23  0.16 -0.35  0.81]\n",
      " [ 0.55 -0.05  0.74  0.01 -0.39]\n",
      " [ 0.7  -0.32 -0.55  0.32 -0.  ]] \n",
      "\n",
      "V =  [[ 0.39 -0.67 -0.14  0.6  -0.13]\n",
      " [ 0.42 -0.35 -0.25 -0.77 -0.21]\n",
      " [ 0.45 -0.04  0.32 -0.08  0.83]\n",
      " [ 0.47  0.28  0.67  0.05 -0.5 ]\n",
      " [ 0.5   0.59 -0.6   0.19  0.01]] \n",
      "\n",
      "U.D(s).V^T = [[ 0.  1.  2.  3.  4.]\n",
      " [ 5.  6.  7.  8.  9.]\n",
      " [10. 11. 12. 13. 14.]\n",
      " [15. 16. 17. 18. 19.]\n",
      " [20. 21. 22. 23. 24.]]\n"
     ]
    }
   ],
   "source": [
    "c = tf.convert_to_tensor(a,dtype=tf.float64)\n",
    "s,u,v = tf.svd(c,full_matrices=True) ##if full_matrices is FALSE (default), redundunt singular values and vectors are dropped\n",
    "print(\"s = \", tf.Session().run(s), \"\\n\")\n",
    "print(\"U = \", tf.Session().run(u), \"\\n\")\n",
    "print(\"V = \", tf.Session().run(v), \"\\n\")\n",
    "\n",
    "m = tf.matmul(tf.matmul(u,tf.diag(s)),tf.transpose(v))\n",
    "print(\"U.D(s).V^T =\", tf.Session().run(m))"
   ]
  },
  {
   "cell_type": "markdown",
   "metadata": {},
   "source": [
    "#### Symmetric matrix\n",
    "\n",
    "Note that U=V\n",
    "\n",
    "For a regular matrix $C$, the symmetric matrices can be formed as $CC^{T}$ and $C^{T}C$ (Positive Semi-Definite).\n",
    "\n",
    "Eigen values are real and non-negative and Eigen vectors are L.I"
   ]
  },
  {
   "cell_type": "code",
   "execution_count": 61,
   "metadata": {},
   "outputs": [
    {
     "data": {
      "text/plain": [
       "array([[  30.,   80.,  130.,  180.,  230.],\n",
       "       [  80.,  255.,  430.,  605.,  780.],\n",
       "       [ 130.,  430.,  730., 1030., 1330.],\n",
       "       [ 180.,  605., 1030., 1455., 1880.],\n",
       "       [ 230.,  780., 1330., 1880., 2430.]])"
      ]
     },
     "execution_count": 61,
     "metadata": {},
     "output_type": "execute_result"
    }
   ],
   "source": [
    "sc = tf.matmul(c,tf.transpose(c))\n",
    "tf.Session().run(sc)"
   ]
  },
  {
   "cell_type": "code",
   "execution_count": 62,
   "metadata": {},
   "outputs": [
    {
     "name": "stdout",
     "output_type": "stream",
     "text": [
      "s =  [4887.21   12.79    0.      0.      0.  ] \n",
      "\n",
      "U =  [[ 0.07  0.77  0.32  0.48 -0.27]\n",
      " [ 0.23  0.5  -0.   -0.43  0.72]\n",
      " [ 0.39  0.23 -0.32 -0.56 -0.62]\n",
      " [ 0.55 -0.05 -0.63  0.52  0.18]\n",
      " [ 0.7  -0.32  0.63 -0.   -0.  ]] \n",
      "\n",
      "V =  [[ 0.07  0.77  0.32 -0.48 -0.27]\n",
      " [ 0.23  0.5  -0.    0.43  0.72]\n",
      " [ 0.39  0.23 -0.32  0.56 -0.62]\n",
      " [ 0.55 -0.05 -0.63 -0.52  0.18]\n",
      " [ 0.7  -0.32  0.63  0.   -0.  ]] \n",
      "\n",
      "U.D(s).V^T = [[  30.   80.  130.  180.  230.]\n",
      " [  80.  255.  430.  605.  780.]\n",
      " [ 130.  430.  730. 1030. 1330.]\n",
      " [ 180.  605. 1030. 1455. 1880.]\n",
      " [ 230.  780. 1330. 1880. 2430.]]\n"
     ]
    }
   ],
   "source": [
    "s,u,v = tf.svd(sc)\n",
    "print(\"s = \", tf.Session().run(s), \"\\n\")\n",
    "print(\"U = \", tf.Session().run(u), \"\\n\")\n",
    "print(\"V = \", tf.Session().run(v), \"\\n\")\n",
    "\n",
    "m = tf.matmul(tf.matmul(u,tf.diag(s)),tf.transpose(v))\n",
    "print(\"U.D(s).V^T =\", tf.Session().run(m))"
   ]
  },
  {
   "cell_type": "markdown",
   "metadata": {},
   "source": [
    "#### Rectangular matrix\n",
    "\n",
    "For $C \\in \\mathbb{R}^{M \\times N}$,\n",
    "\n",
    "$U \\in \\mathbb{R}^{M \\times M}$\n",
    "\n",
    "$V \\in \\mathbb{R}^{N \\times N}$\n",
    "\n",
    "$s \\in \\mathbb{R}^{P} \\qquad P = min(M,N) $"
   ]
  },
  {
   "cell_type": "code",
   "execution_count": 63,
   "metadata": {},
   "outputs": [
    {
     "data": {
      "text/plain": [
       "array([[ 0,  1,  2,  3],\n",
       "       [ 4,  5,  6,  7],\n",
       "       [ 8,  9, 10, 11],\n",
       "       [12, 13, 14, 15],\n",
       "       [16, 17, 18, 19]])"
      ]
     },
     "execution_count": 63,
     "metadata": {},
     "output_type": "execute_result"
    }
   ],
   "source": [
    "a = np.arange(0,20).reshape(5,4)\n",
    "a"
   ]
  },
  {
   "cell_type": "code",
   "execution_count": 65,
   "metadata": {},
   "outputs": [
    {
     "name": "stdout",
     "output_type": "stream",
     "text": [
      "s =  [49.63  2.55  0.    0.  ] \n",
      "\n",
      "U =  [[ 0.06 -0.77  0.56 -0.22  0.18]\n",
      " [ 0.22 -0.5  -0.65  0.41  0.33]\n",
      " [ 0.39 -0.23 -0.34 -0.49 -0.66]\n",
      " [ 0.55  0.05  0.38  0.65 -0.38]\n",
      " [ 0.71  0.32  0.05 -0.34  0.53]] \n",
      "\n",
      "V =  [[ 0.44  0.71 -0.27 -0.48]\n",
      " [ 0.48  0.27  0.    0.84]\n",
      " [ 0.52 -0.18  0.8  -0.24]\n",
      " [ 0.56 -0.62 -0.53 -0.12]] \n",
      "\n"
     ]
    }
   ],
   "source": [
    "c = tf.convert_to_tensor(a,dtype=tf.float64)\n",
    "s,u,v = tf.svd(c,full_matrices=True)\n",
    "print(\"s = \", tf.Session().run(s), \"\\n\")\n",
    "print(\"U = \", tf.Session().run(u), \"\\n\")\n",
    "print(\"V = \", tf.Session().run(v), \"\\n\")"
   ]
  },
  {
   "cell_type": "markdown",
   "metadata": {},
   "source": [
    "**To reconstruct matrices**, we need to construct a rectangular diagonal matrix. Instead, just set **full_matrices = False**. Now U and V becomes partial matrices such that $UDV^{T}$ can be computed"
   ]
  },
  {
   "cell_type": "code",
   "execution_count": 66,
   "metadata": {},
   "outputs": [
    {
     "name": "stdout",
     "output_type": "stream",
     "text": [
      "s =  [49.63  2.55  0.    0.  ] \n",
      "\n",
      "U =  [[ 0.06 -0.77  0.56 -0.22]\n",
      " [ 0.22 -0.5  -0.65  0.41]\n",
      " [ 0.39 -0.23 -0.34 -0.49]\n",
      " [ 0.55  0.05  0.38  0.65]\n",
      " [ 0.71  0.32  0.05 -0.34]] \n",
      "\n",
      "V =  [[ 0.44  0.71 -0.27 -0.48]\n",
      " [ 0.48  0.27  0.    0.84]\n",
      " [ 0.52 -0.18  0.8  -0.24]\n",
      " [ 0.56 -0.62 -0.53 -0.12]] \n",
      "\n",
      "U.D(s).V^T = [[-0.  1.  2.  3.]\n",
      " [ 4.  5.  6.  7.]\n",
      " [ 8.  9. 10. 11.]\n",
      " [12. 13. 14. 15.]\n",
      " [16. 17. 18. 19.]]\n"
     ]
    }
   ],
   "source": [
    "c = tf.convert_to_tensor(a,dtype=tf.float64)\n",
    "s,u,v = tf.svd(c)\n",
    "print(\"s = \", tf.Session().run(s), \"\\n\")\n",
    "print(\"U = \", tf.Session().run(u), \"\\n\")\n",
    "print(\"V = \", tf.Session().run(v), \"\\n\")\n",
    "\n",
    "m = tf.matmul(tf.matmul(u,tf.diag(s)),tf.transpose(v))\n",
    "print(\"U.D(s).V^T =\", tf.Session().run(m))"
   ]
  },
  {
   "cell_type": "markdown",
   "metadata": {},
   "source": [
    "### 2) Diagonal matrices and parting diagonal elements"
   ]
  },
  {
   "cell_type": "code",
   "execution_count": 48,
   "metadata": {},
   "outputs": [
    {
     "name": "stdout",
     "output_type": "stream",
     "text": [
      "[[1. 0. 0. 0. 0.]\n",
      " [0. 2. 0. 0. 0.]\n",
      " [0. 0. 3. 0. 0.]\n",
      " [0. 0. 0. 4. 0.]\n",
      " [0. 0. 0. 0. 5.]]\n",
      "[1. 2. 3. 4. 5.]\n"
     ]
    }
   ],
   "source": [
    "i = tf.range(1,6,dtype=tf.float32)*tf.eye(5,dtype=tf.float32)\n",
    "print(tf.Session().run(i))\n",
    "d = tf.diag_part(i)\n",
    "print(tf.Session().run(d))"
   ]
  },
  {
   "cell_type": "markdown",
   "metadata": {},
   "source": [
    "### 3) Matrix norm"
   ]
  },
  {
   "cell_type": "markdown",
   "metadata": {},
   "source": [
    "**Frobenius norm or 2-norm or euclidean norm**\n",
    "\n",
    "$||A||_{2} = (\\sum_{i}\\sum_{j}a_{ij}^{2})^{1/2}$"
   ]
  },
  {
   "cell_type": "code",
   "execution_count": 91,
   "metadata": {},
   "outputs": [
    {
     "name": "stdout",
     "output_type": "stream",
     "text": [
      "[[1. 1. 1. 1. 1.]\n",
      " [1. 1. 1. 1. 1.]\n",
      " [1. 1. 1. 1. 1.]\n",
      " [1. 1. 1. 1. 1.]\n",
      " [1. 1. 1. 1. 1.]]\n"
     ]
    },
    {
     "data": {
      "text/plain": [
       "5.0"
      ]
     },
     "execution_count": 91,
     "metadata": {},
     "output_type": "execute_result"
    }
   ],
   "source": [
    "a = tf.ones((5,5),dtype=tf.float32)\n",
    "print(tf.Session().run(a))\n",
    "norm_2 = tf.norm(a)\n",
    "tf.Session().run(norm_2)"
   ]
  },
  {
   "cell_type": "markdown",
   "metadata": {},
   "source": [
    "**1 Matrix norm**\n",
    "\n",
    "Maximum of column sums"
   ]
  },
  {
   "cell_type": "code",
   "execution_count": 102,
   "metadata": {},
   "outputs": [
    {
     "name": "stdout",
     "output_type": "stream",
     "text": [
      "[[ 0.  1.  2.  3.]\n",
      " [ 4.  5.  6.  7.]\n",
      " [ 8.  9. 10. 11.]\n",
      " [12. 13. 14. 15.]\n",
      " [16. 17. 18. 19.]]\n",
      "55.0\n",
      "Which is max of ... [40. 45. 50. 55.]\n"
     ]
    }
   ],
   "source": [
    "a = tf.convert_to_tensor(np.arange(0,20).reshape(5,4), dtype=tf.float32)\n",
    "print(tf.Session().run(a))\n",
    "norm_1 = tf.reduce_max(tf.norm(a,ord=1,axis=0))\n",
    "print(tf.Session().run(norm_1))\n",
    "print( \"Which is max of ...\", tf.Session().run(tf.norm(a,ord=1,axis=0)))"
   ]
  },
  {
   "cell_type": "code",
   "execution_count": 93,
   "metadata": {},
   "outputs": [
    {
     "data": {
      "text/plain": [
       "55"
      ]
     },
     "execution_count": 93,
     "metadata": {},
     "output_type": "execute_result"
    }
   ],
   "source": [
    "3+7+11+15+19"
   ]
  },
  {
   "cell_type": "markdown",
   "metadata": {},
   "source": [
    "**Infinite Matrix norm**\n",
    "\n",
    "Maximum of row sums"
   ]
  },
  {
   "cell_type": "code",
   "execution_count": 101,
   "metadata": {},
   "outputs": [
    {
     "name": "stdout",
     "output_type": "stream",
     "text": [
      "[[ 0.  1.  2.  3.]\n",
      " [ 4.  5.  6.  7.]\n",
      " [ 8.  9. 10. 11.]\n",
      " [12. 13. 14. 15.]\n",
      " [16. 17. 18. 19.]]\n",
      "70.0\n",
      "Which is max of ... [ 6. 22. 38. 54. 70.]\n"
     ]
    }
   ],
   "source": [
    "a = tf.convert_to_tensor(np.arange(0,20).reshape(5,4), dtype=tf.float32)\n",
    "print(tf.Session().run(a))\n",
    "norm_1 = tf.reduce_max(tf.norm(a,ord=1,axis=1))\n",
    "print(tf.Session().run(norm_1))\n",
    "print( \"Which is max of ...\", tf.Session().run(tf.norm(a,ord=1,axis=1)))"
   ]
  },
  {
   "cell_type": "code",
   "execution_count": 89,
   "metadata": {},
   "outputs": [
    {
     "data": {
      "text/plain": [
       "70"
      ]
     },
     "execution_count": 89,
     "metadata": {},
     "output_type": "execute_result"
    }
   ],
   "source": [
    "16+17+18+19"
   ]
  },
  {
   "cell_type": "markdown",
   "metadata": {},
   "source": [
    "### 4) Vector norm\n",
    "\n",
    "**Remember :**\n",
    ">1) tf.norm considers even matrices as vectors"
   ]
  },
  {
   "cell_type": "markdown",
   "metadata": {},
   "source": [
    "** 1 vector norm**\n",
    "\n",
    "Sum of all elements\n",
    "\n",
    "$||A||_{1} = (\\sum_{i}\\sum_{j}a_{ij}^{1})^{1}$"
   ]
  },
  {
   "cell_type": "code",
   "execution_count": 96,
   "metadata": {},
   "outputs": [
    {
     "name": "stdout",
     "output_type": "stream",
     "text": [
      "[[ 0.  1.  2.  3.]\n",
      " [ 4.  5.  6.  7.]\n",
      " [ 8.  9. 10. 11.]\n",
      " [12. 13. 14. 15.]\n",
      " [16. 17. 18. 19.]]\n"
     ]
    },
    {
     "data": {
      "text/plain": [
       "190.0"
      ]
     },
     "execution_count": 96,
     "metadata": {},
     "output_type": "execute_result"
    }
   ],
   "source": [
    "a = tf.convert_to_tensor(np.arange(0,20).reshape(5,4), dtype=tf.float32)\n",
    "print(tf.Session().run(a))\n",
    "norm_1 = tf.norm(a,ord=1)\n",
    "tf.Session().run(norm_1)"
   ]
  },
  {
   "cell_type": "markdown",
   "metadata": {},
   "source": [
    "** Infinite vector norm**\n",
    "\n",
    "Maximum of all elements\n",
    "\n",
    "$||A||_{\\inf} = max(a_{ij})$"
   ]
  },
  {
   "cell_type": "code",
   "execution_count": 95,
   "metadata": {},
   "outputs": [
    {
     "name": "stdout",
     "output_type": "stream",
     "text": [
      "[[ 0.  1.  2.  3.]\n",
      " [ 4.  5.  6.  7.]\n",
      " [ 8.  9. 10. 11.]\n",
      " [12. 13. 14. 15.]\n",
      " [16. 17. 18. 19.]]\n"
     ]
    },
    {
     "data": {
      "text/plain": [
       "19.0"
      ]
     },
     "execution_count": 95,
     "metadata": {},
     "output_type": "execute_result"
    }
   ],
   "source": [
    "a = tf.convert_to_tensor(np.arange(0,20).reshape(5,4), dtype=tf.float32)\n",
    "print(tf.Session().run(a))\n",
    "norm_inf = tf.norm(a,ord=np.Inf)\n",
    "tf.Session().run(norm_inf)"
   ]
  },
  {
   "cell_type": "markdown",
   "metadata": {},
   "source": [
    "### 5) Tensor Dot Contraction\n",
    "\n",
    "Multiples each element of one tensor to every element of other tensor. (i.e)\n",
    "\n",
    "> $C_{ijlm} = A_{ij}B_{lm}$\n",
    "\n",
    "> Order(4) = Order(2)*Order(2)\n",
    "\n",
    "To reduce along an axis, specify the two indices in **axis** argument. Length of those axes should be equal.\n",
    "\n",
    ">$C_{im} = \\sum_{k}A_{ik}B_{km} \\qquad axes = [1,0]$\n",
    "\n",
    "> Order(2) = Order(2)*Order(2) - 2"
   ]
  },
  {
   "cell_type": "code",
   "execution_count": 113,
   "metadata": {},
   "outputs": [
    {
     "data": {
      "text/plain": [
       "(array([[4., 4., 4., 4.],\n",
       "        [4., 4., 4., 4.],\n",
       "        [4., 4., 4., 4.]], dtype=float32), array([[4., 4., 4., 4.],\n",
       "        [4., 4., 4., 4.],\n",
       "        [4., 4., 4., 4.]], dtype=float32))"
      ]
     },
     "execution_count": 113,
     "metadata": {},
     "output_type": "execute_result"
    }
   ],
   "source": [
    "a = tf.ones((3,2),dtype=tf.float32)\n",
    "b = 2*tf.ones((2,4),dtype=tf.float32)\n",
    "\n",
    "c_tdot = tf.tensordot(a,b,axes=[[1],[0]]) ## Equivalent to matrix multiplication\n",
    "c_matmul = tf.matmul(a,b)\n",
    "tf.Session().run((c_tdot,c_matmul))"
   ]
  },
  {
   "cell_type": "markdown",
   "metadata": {},
   "source": [
    "**Remember :**\n",
    ">2) **tf.tensordor** should be used for **higher-order** tensor contractions"
   ]
  },
  {
   "cell_type": "code",
   "execution_count": 119,
   "metadata": {},
   "outputs": [
    {
     "name": "stdout",
     "output_type": "stream",
     "text": [
      "Shape A : (3, 2, 3)\n",
      "Shape B : (4, 2, 4)\n",
      "Axes : [1,1]\n",
      "Resulting shape : (3, 3, 4, 4)\n"
     ]
    }
   ],
   "source": [
    "a = tf.ones((3,2,3),dtype=tf.float32)\n",
    "b = 2*tf.ones((4,2,4),dtype=tf.float32)\n",
    "c_tdot = tf.tensordot(a,b,axes=[[1],[1]])\n",
    "print(\"Shape A :\", a.shape)\n",
    "print(\"Shape B :\", b.shape)\n",
    "print(\"Axes : [1,1]\")\n",
    "print(\"Resulting shape :\", tf.Session().run(c_tdot).shape)"
   ]
  },
  {
   "cell_type": "code",
   "execution_count": null,
   "metadata": {},
   "outputs": [],
   "source": []
  }
 ],
 "metadata": {
  "kernelspec": {
   "display_name": "Python 3",
   "language": "python",
   "name": "python3"
  },
  "language_info": {
   "codemirror_mode": {
    "name": "ipython",
    "version": 3
   },
   "file_extension": ".py",
   "mimetype": "text/x-python",
   "name": "python",
   "nbconvert_exporter": "python",
   "pygments_lexer": "ipython3",
   "version": "3.4.3"
  }
 },
 "nbformat": 4,
 "nbformat_minor": 2
}
