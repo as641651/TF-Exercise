{
 "cells": [
  {
   "cell_type": "markdown",
   "metadata": {},
   "source": [
    "## Text Line Reader"
   ]
  },
  {
   "cell_type": "code",
   "execution_count": 1,
   "metadata": {},
   "outputs": [
    {
     "name": "stderr",
     "output_type": "stream",
     "text": [
      "/usr/lib/python3.4/importlib/_bootstrap.py:321: FutureWarning: Conversion of the second argument of issubdtype from `float` to `np.floating` is deprecated. In future, it will be treated as `np.float64 == np.dtype(float).type`.\n",
      "  return f(*args, **kwds)\n"
     ]
    }
   ],
   "source": [
    "import tensorflow as tf"
   ]
  },
  {
   "cell_type": "markdown",
   "metadata": {},
   "source": [
    "**string_input_producer** returns a queue which is read by **TextLineReader** line by line for every run"
   ]
  },
  {
   "cell_type": "code",
   "execution_count": 2,
   "metadata": {},
   "outputs": [],
   "source": [
    "filename_q = tf.train.string_input_producer([\"50_Startups.csv\"])"
   ]
  },
  {
   "cell_type": "code",
   "execution_count": 3,
   "metadata": {},
   "outputs": [],
   "source": [
    "reader = tf.TextLineReader(skip_header_lines=1)"
   ]
  },
  {
   "cell_type": "code",
   "execution_count": 4,
   "metadata": {},
   "outputs": [],
   "source": [
    "key, value = reader.read(filename_q)"
   ]
  },
  {
   "cell_type": "code",
   "execution_count": 5,
   "metadata": {},
   "outputs": [],
   "source": [
    "sess = tf.InteractiveSession()"
   ]
  },
  {
   "cell_type": "markdown",
   "metadata": {},
   "source": [
    "Since the queues run asynchrnously, we need to instantiate queue runners and threads"
   ]
  },
  {
   "cell_type": "code",
   "execution_count": 6,
   "metadata": {},
   "outputs": [],
   "source": [
    "coord = tf.train.Coordinator()\n",
    "threads = tf.train.start_queue_runners(coord=coord)"
   ]
  },
  {
   "cell_type": "code",
   "execution_count": 7,
   "metadata": {},
   "outputs": [
    {
     "data": {
      "text/plain": [
       "(b'50_Startups.csv:2', b'165349.2,136897.8,471784.1,New York,192261.83')"
      ]
     },
     "execution_count": 7,
     "metadata": {},
     "output_type": "execute_result"
    }
   ],
   "source": [
    "k,v = sess.run([key,value])\n",
    "k,v"
   ]
  },
  {
   "cell_type": "code",
   "execution_count": 8,
   "metadata": {},
   "outputs": [
    {
     "name": "stdout",
     "output_type": "stream",
     "text": [
      "b'50_Startups.csv:3' b'162597.7,151377.59,443898.53,California,191792.06'\n",
      "b'50_Startups.csv:4' b'153441.51,101145.55,407934.54,Florida,191050.39'\n",
      "b'50_Startups.csv:5' b'144372.41,118671.85,383199.62,New York,182901.99'\n",
      "b'50_Startups.csv:6' b'142107.34,91391.77,366168.42,Florida,166187.94'\n",
      "b'50_Startups.csv:7' b'131876.9,99814.71,362861.36,New York,156991.12'\n",
      "b'50_Startups.csv:8' b'134615.46,147198.87,127716.82,California,156122.51'\n",
      "b'50_Startups.csv:9' b'130298.13,145530.06,323876.68,Florida,155752.6'\n",
      "b'50_Startups.csv:10' b'120542.52,148718.95,311613.29,New York,152211.77'\n",
      "b'50_Startups.csv:11' b'123334.88,108679.17,304981.62,California,149759.96'\n",
      "b'50_Startups.csv:12' b'101913.08,110594.11,229160.95,Florida,146121.95'\n",
      "b'50_Startups.csv:13' b'100671.96,91790.61,249744.55,California,144259.4'\n",
      "b'50_Startups.csv:14' b'93863.75,127320.38,249839.44,Florida,141585.52'\n",
      "b'50_Startups.csv:15' b'91992.39,135495.07,252664.93,California,134307.35'\n",
      "b'50_Startups.csv:16' b'119943.24,156547.42,256512.92,Florida,132602.65'\n",
      "b'50_Startups.csv:17' b'114523.61,122616.84,261776.23,New York,129917.04'\n",
      "b'50_Startups.csv:18' b'78013.11,121597.55,264346.06,California,126992.93'\n",
      "b'50_Startups.csv:19' b'94657.16,145077.58,282574.31,New York,125370.37'\n",
      "b'50_Startups.csv:20' b'91749.16,114175.79,294919.57,Florida,124266.9'\n",
      "b'50_Startups.csv:21' b'86419.7,153514.11,0,New York,122776.86'\n",
      "b'50_Startups.csv:22' b'76253.86,113867.3,298664.47,California,118474.03'\n",
      "b'50_Startups.csv:23' b'78389.47,153773.43,299737.29,New York,111313.02'\n",
      "b'50_Startups.csv:24' b'73994.56,122782.75,303319.26,Florida,110352.25'\n",
      "b'50_Startups.csv:25' b'67532.53,105751.03,304768.73,Florida,108733.99'\n",
      "b'50_Startups.csv:26' b'77044.01,99281.34,140574.81,New York,108552.04'\n",
      "b'50_Startups.csv:27' b'64664.71,139553.16,137962.62,California,107404.34'\n",
      "b'50_Startups.csv:28' b'75328.87,144135.98,134050.07,Florida,105733.54'\n",
      "b'50_Startups.csv:29' b'72107.6,127864.55,353183.81,New York,105008.31'\n",
      "b'50_Startups.csv:30' b'66051.52,182645.56,118148.2,Florida,103282.38'\n",
      "b'50_Startups.csv:31' b'65605.48,153032.06,107138.38,New York,101004.64'\n",
      "b'50_Startups.csv:32' b'61994.48,115641.28,91131.24,Florida,99937.59'\n",
      "b'50_Startups.csv:33' b'61136.38,152701.92,88218.23,New York,97483.56'\n",
      "b'50_Startups.csv:34' b'63408.86,129219.61,46085.25,California,97427.84'\n",
      "b'50_Startups.csv:35' b'55493.95,103057.49,214634.81,Florida,96778.92'\n",
      "b'50_Startups.csv:36' b'46426.07,157693.92,210797.67,California,96712.8'\n",
      "b'50_Startups.csv:37' b'46014.02,85047.44,205517.64,New York,96479.51'\n",
      "b'50_Startups.csv:38' b'28663.76,127056.21,201126.82,Florida,90708.19'\n",
      "b'50_Startups.csv:39' b'44069.95,51283.14,197029.42,California,89949.14'\n",
      "b'50_Startups.csv:40' b'20229.59,65947.93,185265.1,New York,81229.06'\n",
      "b'50_Startups.csv:41' b'38558.51,82982.09,174999.3,California,81005.76'\n",
      "b'50_Startups.csv:42' b'28754.33,118546.05,172795.67,California,78239.91'\n",
      "b'50_Startups.csv:43' b'27892.92,84710.77,164470.71,Florida,77798.83'\n",
      "b'50_Startups.csv:44' b'23640.93,96189.63,148001.11,California,71498.49'\n",
      "b'50_Startups.csv:45' b'15505.73,127382.3,35534.17,New York,69758.98'\n",
      "b'50_Startups.csv:46' b'22177.74,154806.14,28334.72,California,65200.33'\n",
      "b'50_Startups.csv:47' b'1000.23,124153.04,1903.93,New York,64926.08'\n",
      "b'50_Startups.csv:48' b'1315.46,115816.21,297114.46,Florida,49490.75'\n",
      "b'50_Startups.csv:49' b'0,135426.92,0,California,42559.73'\n",
      "b'50_Startups.csv:50' b'542.05,51743.15,0,New York,35673.41'\n",
      "b'50_Startups.csv:51' b'0,116983.8,45173.06,California,14681.4'\n",
      "b'50_Startups.csv:2' b'165349.2,136897.8,471784.1,New York,192261.83'\n",
      "b'50_Startups.csv:3' b'162597.7,151377.59,443898.53,California,191792.06'\n"
     ]
    }
   ],
   "source": [
    "for i in range(51):\n",
    "    k,v = sess.run([key,value])\n",
    "    print(k,v)"
   ]
  },
  {
   "cell_type": "code",
   "execution_count": 9,
   "metadata": {},
   "outputs": [],
   "source": [
    "coord.request_stop()\n",
    "coord.join(threads)"
   ]
  },
  {
   "cell_type": "markdown",
   "metadata": {},
   "source": [
    "**decoding CSV**"
   ]
  },
  {
   "cell_type": "code",
   "execution_count": 22,
   "metadata": {},
   "outputs": [
    {
     "data": {
      "text/plain": [
       "[162597.7, 151377.6, 443898.53, b'California', 191792.06]"
      ]
     },
     "execution_count": 22,
     "metadata": {},
     "output_type": "execute_result"
    }
   ],
   "source": [
    "sess.run(tf.decode_csv(v,record_defaults=[[1.], [1.], [1.], [\"na\"], [1.]]))"
   ]
  },
  {
   "cell_type": "markdown",
   "metadata": {},
   "source": [
    "**Example**\n",
    "\n",
    "Getting features and labels from multiple CSV file"
   ]
  },
  {
   "cell_type": "code",
   "execution_count": 31,
   "metadata": {},
   "outputs": [
    {
     "name": "stdout",
     "output_type": "stream",
     "text": [
      "b'50_Startups_2.csv:2' [165349.2 136897.8 471784.1] b'a' 192261.83\n",
      "b'50_Startups_2.csv:3' [162597.7  151377.6  443898.53] b'a' 191792.06\n",
      "b'50_Startups_2.csv:4' [153441.52 101145.55 407934.53] b'b' 191050.39\n",
      "b'50_Startups_2.csv:5' [144372.4  118671.85 383199.62] b'b' 182901.98\n",
      "b'50_Startups_2.csv:6' [142107.34  91391.77 366168.4 ] b'd' 166187.94\n",
      "b'50_Startups_2.csv:7' [131876.9   99814.71 362861.38] b'd' 156991.12\n",
      "b'50_Startups_2.csv:8' [134615.45 147198.88 127716.82] b'a' 156122.52\n",
      "b'50_Startups.csv:2' [165349.2 136897.8 471784.1] b'New York' 192261.83\n",
      "b'50_Startups.csv:3' [162597.7  151377.6  443898.53] b'California' 191792.06\n",
      "b'50_Startups.csv:4' [153441.52 101145.55 407934.53] b'Florida' 191050.39\n",
      "b'50_Startups.csv:5' [144372.4  118671.85 383199.62] b'New York' 182901.98\n",
      "b'50_Startups.csv:6' [142107.34  91391.77 366168.4 ] b'Florida' 166187.94\n",
      "b'50_Startups.csv:7' [131876.9   99814.71 362861.38] b'New York' 156991.12\n",
      "b'50_Startups.csv:8' [134615.45 147198.88 127716.82] b'California' 156122.52\n",
      "b'50_Startups.csv:9' [130298.13 145530.06 323876.7 ] b'Florida' 155752.6\n",
      "b'50_Startups.csv:10' [120542.52 148718.95 311613.28] b'New York' 152211.77\n",
      "b'50_Startups.csv:11' [123334.88 108679.17 304981.62] b'California' 149759.95\n",
      "b'50_Startups.csv:12' [101913.08 110594.11 229160.95] b'Florida' 146121.95\n",
      "b'50_Startups.csv:13' [100671.96  91790.61 249744.55] b'California' 144259.4\n",
      "b'50_Startups.csv:14' [ 93863.75 127320.38 249839.44] b'Florida' 141585.52\n",
      "b'50_Startups.csv:15' [ 91992.39 135495.06 252664.94] b'California' 134307.34\n",
      "b'50_Startups.csv:16' [119943.24 156547.42 256512.92] b'Florida' 132602.66\n",
      "b'50_Startups.csv:17' [114523.61 122616.84 261776.23] b'New York' 129917.04\n",
      "b'50_Startups.csv:18' [ 78013.11 121597.55 264346.06] b'California' 126992.93\n",
      "b'50_Startups.csv:19' [ 94657.16 145077.58 282574.3 ] b'New York' 125370.37\n",
      "b'50_Startups.csv:20' [ 91749.16 114175.79 294919.56] b'Florida' 124266.9\n",
      "b'50_Startups.csv:21' [ 86419.7  153514.11      0.  ] b'New York' 122776.86\n",
      "b'50_Startups.csv:22' [ 76253.86 113867.3  298664.47] b'California' 118474.03\n",
      "b'50_Startups.csv:23' [ 78389.47 153773.44 299737.28] b'New York' 111313.02\n",
      "b'50_Startups.csv:24' [ 73994.56 122782.75 303319.25] b'Florida' 110352.25\n",
      "b'50_Startups.csv:25' [ 67532.53 105751.03 304768.72] b'Florida' 108733.99\n",
      "b'50_Startups.csv:26' [ 77044.01  99281.34 140574.81] b'New York' 108552.04\n",
      "b'50_Startups.csv:27' [ 64664.71 139553.16 137962.62] b'California' 107404.34\n",
      "b'50_Startups.csv:28' [ 75328.87 144135.98 134050.06] b'Florida' 105733.54\n",
      "b'50_Startups.csv:29' [ 72107.6  127864.55 353183.8 ] b'New York' 105008.31\n",
      "b'50_Startups.csv:30' [ 66051.52 182645.56 118148.2 ] b'Florida' 103282.38\n",
      "b'50_Startups.csv:31' [ 65605.48 153032.06 107138.38] b'New York' 101004.64\n",
      "b'50_Startups.csv:32' [ 61994.48 115641.28  91131.24] b'Florida' 99937.59\n",
      "b'50_Startups.csv:33' [ 61136.38 152701.92  88218.23] b'New York' 97483.56\n",
      "b'50_Startups.csv:34' [ 63408.86 129219.61  46085.25] b'California' 97427.84\n",
      "b'50_Startups.csv:35' [ 55493.95 103057.49 214634.81] b'Florida' 96778.92\n",
      "b'50_Startups.csv:36' [ 46426.07 157693.92 210797.67] b'California' 96712.8\n",
      "b'50_Startups.csv:37' [ 46014.02  85047.44 205517.64] b'New York' 96479.51\n",
      "b'50_Startups.csv:38' [ 28663.76 127056.21 201126.81] b'Florida' 90708.19\n",
      "b'50_Startups.csv:39' [ 44069.95  51283.14 197029.42] b'California' 89949.14\n",
      "b'50_Startups.csv:40' [ 20229.59  65947.93 185265.1 ] b'New York' 81229.06\n",
      "b'50_Startups.csv:41' [ 38558.51  82982.09 174999.3 ] b'California' 81005.76\n",
      "b'50_Startups.csv:42' [ 28754.33 118546.05 172795.67] b'California' 78239.91\n",
      "b'50_Startups.csv:43' [ 27892.92  84710.77 164470.7 ] b'Florida' 77798.83\n",
      "b'50_Startups.csv:44' [ 23640.93  96189.63 148001.11] b'California' 71498.49\n",
      "b'50_Startups.csv:45' [ 15505.73 127382.3   35534.17] b'New York' 69758.98\n"
     ]
    }
   ],
   "source": [
    "filename_q = tf.train.string_input_producer([\"50_Startups.csv\",\"50_Startups_2.csv\"])\n",
    "reader = tf.TextLineReader(skip_header_lines=1)\n",
    "key, value = reader.read(filename_q)\n",
    "\n",
    "col1, col2, col3, col4, dep_var = tf.decode_csv(value, record_defaults=[[1.], [1.], [1.], [\"na\"], [1.]])\n",
    "features = tf.stack([col1, col2, col3])\n",
    "\n",
    "sess = tf.InteractiveSession()\n",
    "\n",
    "coord = tf.train.Coordinator()\n",
    "threads = tf.train.start_queue_runners(coord=coord)\n",
    "\n",
    "for i in range(51):\n",
    "    k,f,c,v = sess.run([key,features,col4,dep_var])\n",
    "    print(k,f,c,v)\n",
    "\n",
    "coord.request_stop()\n",
    "coord.join(threads)\n",
    "\n",
    "sess.close()"
   ]
  },
  {
   "cell_type": "markdown",
   "metadata": {},
   "source": [
    "### Batching"
   ]
  },
  {
   "cell_type": "code",
   "execution_count": 32,
   "metadata": {},
   "outputs": [],
   "source": [
    "filename_q = tf.train.string_input_producer([\"50_Startups.csv\",\"50_Startups_2.csv\"],shuffle=True)\n",
    "reader = tf.TextLineReader(skip_header_lines=1)\n",
    "key, value = reader.read(filename_q)\n",
    "\n",
    "col1, col2, col3, col4, label = tf.decode_csv(value, record_defaults=[[1.], [1.], [1.], [\"na\"], [1.]])\n",
    "example = tf.stack([col1, col2, col3])\n",
    "\n",
    "min_after_dequeue = 10000\n",
    "batch_size = 5\n",
    "capacity = min_after_dequeue + 3 * batch_size\n",
    "\n",
    "example_batch, label_batch = tf.train.shuffle_batch( [example, label], batch_size=batch_size, capacity=capacity,\n",
    "      min_after_dequeue=min_after_dequeue)"
   ]
  },
  {
   "cell_type": "code",
   "execution_count": 33,
   "metadata": {},
   "outputs": [
    {
     "data": {
      "text/plain": [
       "[array([[131876.9 ,  99814.71, 362861.38],\n",
       "        [ 67532.53, 105751.03, 304768.72],\n",
       "        [ 64664.71, 139553.16, 137962.62],\n",
       "        [ 38558.51,  82982.09, 174999.3 ],\n",
       "        [ 72107.6 , 127864.55, 353183.8 ]], dtype=float32),\n",
       " array([156991.12, 108733.99, 107404.34,  81005.76, 105008.31],\n",
       "       dtype=float32)]"
      ]
     },
     "execution_count": 33,
     "metadata": {},
     "output_type": "execute_result"
    }
   ],
   "source": [
    "sess = tf.InteractiveSession()\n",
    "\n",
    "coord = tf.train.Coordinator()\n",
    "threads = tf.train.start_queue_runners(coord=coord)\n",
    "sess.run([example_batch,label_batch])"
   ]
  },
  {
   "cell_type": "code",
   "execution_count": 34,
   "metadata": {},
   "outputs": [
    {
     "data": {
      "text/plain": [
       "[array([[134615.45, 147198.88, 127716.82],\n",
       "        [ 23640.93,  96189.63, 148001.11],\n",
       "        [ 75328.87, 144135.98, 134050.06],\n",
       "        [ 75328.87, 144135.98, 134050.06],\n",
       "        [ 78389.47, 153773.44, 299737.28]], dtype=float32),\n",
       " array([156122.52,  71498.49, 105733.54, 105733.54, 111313.02],\n",
       "       dtype=float32)]"
      ]
     },
     "execution_count": 34,
     "metadata": {},
     "output_type": "execute_result"
    }
   ],
   "source": [
    "sess.run([example_batch,label_batch])"
   ]
  },
  {
   "cell_type": "code",
   "execution_count": 35,
   "metadata": {},
   "outputs": [],
   "source": [
    "coord.request_stop()\n",
    "coord.join(threads)\n",
    "\n",
    "sess.close()"
   ]
  },
  {
   "cell_type": "code",
   "execution_count": 36,
   "metadata": {},
   "outputs": [
    {
     "data": {
      "text/plain": [
       "<tf.Tensor 'DecodeCSV_14:0' shape=() dtype=float32>"
      ]
     },
     "execution_count": 36,
     "metadata": {},
     "output_type": "execute_result"
    }
   ],
   "source": [
    "col1"
   ]
  },
  {
   "cell_type": "code",
   "execution_count": 37,
   "metadata": {},
   "outputs": [
    {
     "data": {
      "text/plain": [
       "'1.6.0-rc1'"
      ]
     },
     "execution_count": 37,
     "metadata": {},
     "output_type": "execute_result"
    }
   ],
   "source": [
    "tf.__version__"
   ]
  },
  {
   "cell_type": "code",
   "execution_count": null,
   "metadata": {},
   "outputs": [],
   "source": []
  }
 ],
 "metadata": {
  "kernelspec": {
   "display_name": "Python 3",
   "language": "python",
   "name": "python3"
  },
  "language_info": {
   "codemirror_mode": {
    "name": "ipython",
    "version": 3
   },
   "file_extension": ".py",
   "mimetype": "text/x-python",
   "name": "python",
   "nbconvert_exporter": "python",
   "pygments_lexer": "ipython3",
   "version": "3.4.3"
  }
 },
 "nbformat": 4,
 "nbformat_minor": 2
}
