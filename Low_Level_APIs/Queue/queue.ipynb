{
 "cells": [
  {
   "cell_type": "markdown",
   "metadata": {},
   "source": [
    "## Queue"
   ]
  },
  {
   "cell_type": "markdown",
   "metadata": {},
   "source": [
    "An illustration for using queues"
   ]
  },
  {
   "cell_type": "code",
   "execution_count": 1,
   "metadata": {},
   "outputs": [
    {
     "name": "stderr",
     "output_type": "stream",
     "text": [
      "/usr/lib/python3.4/importlib/_bootstrap.py:321: FutureWarning: Conversion of the second argument of issubdtype from `float` to `np.floating` is deprecated. In future, it will be treated as `np.float64 == np.dtype(float).type`.\n",
      "  return f(*args, **kwds)\n"
     ]
    }
   ],
   "source": [
    "import tensorflow as tf\n",
    "import memory_util"
   ]
  },
  {
   "cell_type": "markdown",
   "metadata": {},
   "source": [
    "Queue with specified capacity and datatype"
   ]
  },
  {
   "cell_type": "code",
   "execution_count": 2,
   "metadata": {},
   "outputs": [],
   "source": [
    "q = tf.FIFOQueue(capacity=3,dtypes=tf.float32)"
   ]
  },
  {
   "cell_type": "markdown",
   "metadata": {},
   "source": [
    "Fill the queue"
   ]
  },
  {
   "cell_type": "code",
   "execution_count": 3,
   "metadata": {},
   "outputs": [],
   "source": [
    "enq_op = q.enqueue(0)"
   ]
  },
  {
   "cell_type": "markdown",
   "metadata": {},
   "source": [
    "Extract the element"
   ]
  },
  {
   "cell_type": "code",
   "execution_count": 4,
   "metadata": {},
   "outputs": [],
   "source": [
    "x = q.dequeue()"
   ]
  },
  {
   "cell_type": "markdown",
   "metadata": {},
   "source": [
    "Do some op"
   ]
  },
  {
   "cell_type": "code",
   "execution_count": 5,
   "metadata": {},
   "outputs": [],
   "source": [
    "y = x+1\n",
    "y = tf.Print(y,data=[y],message=\"y = \")"
   ]
  },
  {
   "cell_type": "markdown",
   "metadata": {},
   "source": [
    "Add back into queue"
   ]
  },
  {
   "cell_type": "code",
   "execution_count": 6,
   "metadata": {},
   "outputs": [],
   "source": [
    "q_inc = q.enqueue(y)"
   ]
  },
  {
   "cell_type": "code",
   "execution_count": 7,
   "metadata": {},
   "outputs": [],
   "source": [
    "sess = tf.InteractiveSession()"
   ]
  },
  {
   "cell_type": "code",
   "execution_count": 8,
   "metadata": {},
   "outputs": [],
   "source": [
    "enq_op.run()"
   ]
  },
  {
   "cell_type": "code",
   "execution_count": 9,
   "metadata": {},
   "outputs": [],
   "source": [
    "def yf():\n",
    "    with memory_util.capture_stderr() as mw:\n",
    "      sess.run(q_inc)\n",
    "\n",
    "    print(mw.getvalue())"
   ]
  },
  {
   "cell_type": "code",
   "execution_count": 10,
   "metadata": {},
   "outputs": [
    {
     "name": "stdout",
     "output_type": "stream",
     "text": [
      "y = [1]\n",
      "\n",
      "y = [2]\n",
      "\n",
      "y = [3]\n",
      "\n",
      "y = [4]\n",
      "\n"
     ]
    }
   ],
   "source": [
    "yf()\n",
    "yf()\n",
    "yf()\n",
    "yf()"
   ]
  },
  {
   "cell_type": "markdown",
   "metadata": {},
   "source": [
    "**Remember**:\n",
    "> Trying to dequeue when no element is present in the queue will freeze the program"
   ]
  },
  {
   "cell_type": "markdown",
   "metadata": {},
   "source": [
    "**Queue Runner**\n",
    "\n",
    "A QueueRunner will control the asynchronous execution of enqueue operations to **ensure that our queues never run dry**."
   ]
  },
  {
   "cell_type": "code",
   "execution_count": 11,
   "metadata": {},
   "outputs": [],
   "source": [
    "q = tf.FIFOQueue(capacity=3,dtypes=tf.float32)\n",
    "enq_op = q.enqueue_many([[0,0,0],])"
   ]
  },
  {
   "cell_type": "markdown",
   "metadata": {},
   "source": [
    "Create a queue runner object. It can create multiple threads of enqueue operations, all of which it will handle in an asynchronous fashion. Here, 3 threads will be created."
   ]
  },
  {
   "cell_type": "code",
   "execution_count": 12,
   "metadata": {},
   "outputs": [],
   "source": [
    "qr = tf.train.QueueRunner(q, [enq_op] * 3)\n",
    "tf.train.add_queue_runner(qr)"
   ]
  },
  {
   "cell_type": "markdown",
   "metadata": {},
   "source": [
    "The graph of y has a dequeue object. If we run y for the second time without enqueuing, our code will be frozen. But now, queue runner object will take care of that."
   ]
  },
  {
   "cell_type": "code",
   "execution_count": 13,
   "metadata": {},
   "outputs": [],
   "source": [
    "x = q.dequeue()\n",
    "y = x+1\n",
    "y = tf.Print(y,data=[y],message=\"y = \")"
   ]
  },
  {
   "cell_type": "markdown",
   "metadata": {},
   "source": [
    "Enable asynchronous operations (Parallelization)"
   ]
  },
  {
   "cell_type": "code",
   "execution_count": 14,
   "metadata": {},
   "outputs": [],
   "source": [
    "coord = tf.train.Coordinator()\n",
    "threads = tf.train.start_queue_runners(coord=coord)"
   ]
  },
  {
   "cell_type": "code",
   "execution_count": 15,
   "metadata": {},
   "outputs": [
    {
     "name": "stdout",
     "output_type": "stream",
     "text": [
      "1.0\n",
      "2.0\n",
      "3.0\n"
     ]
    }
   ],
   "source": [
    "print(sess.run(y))\n",
    "print(sess.run(y+1))\n",
    "print(sess.run(y+2))"
   ]
  },
  {
   "cell_type": "markdown",
   "metadata": {},
   "source": [
    "Join threads (Disable parallelization)\n",
    "\n",
    "**Remember**: \n",
    "> Printing of threads need not be in linear order before joining threads"
   ]
  },
  {
   "cell_type": "code",
   "execution_count": 16,
   "metadata": {},
   "outputs": [],
   "source": [
    "coord.request_stop()\n",
    "coord.join(threads)"
   ]
  },
  {
   "cell_type": "markdown",
   "metadata": {},
   "source": [
    "**Example 1**\n",
    "\n",
    "[data]"
   ]
  },
  {
   "cell_type": "code",
   "execution_count": 25,
   "metadata": {},
   "outputs": [],
   "source": [
    "q = tf.FIFOQueue(capacity=5,dtypes=tf.int32) \n",
    "enq = q.enqueue_many([[1,2,3,4,5],])\n",
    "sess.run(enq)"
   ]
  },
  {
   "cell_type": "code",
   "execution_count": 26,
   "metadata": {},
   "outputs": [
    {
     "name": "stdout",
     "output_type": "stream",
     "text": [
      "1\n",
      "2\n",
      "3\n",
      "4\n",
      "5\n"
     ]
    }
   ],
   "source": [
    "print(sess.run(q.dequeue()))\n",
    "print(sess.run(q.dequeue()))\n",
    "print(sess.run(q.dequeue()))\n",
    "print(sess.run(q.dequeue()))\n",
    "print(sess.run(q.dequeue()))"
   ]
  },
  {
   "cell_type": "markdown",
   "metadata": {},
   "source": [
    "**Example 2**\n",
    "\n",
    "[data, label]"
   ]
  },
  {
   "cell_type": "code",
   "execution_count": 27,
   "metadata": {},
   "outputs": [],
   "source": [
    "data = tf.random_normal((20,5))\n",
    "labels = tf.range(0,limit=20)\n",
    "\n",
    "q = tf.FIFOQueue(capacity=20,dtypes=[tf.float32,tf.int32]) \n",
    "data_q = q.enqueue_many([data,labels])\n",
    "x,l = q.dequeue()"
   ]
  },
  {
   "cell_type": "code",
   "execution_count": 28,
   "metadata": {},
   "outputs": [
    {
     "name": "stdout",
     "output_type": "stream",
     "text": [
      "[array([ 0.36239254,  2.1364446 ,  0.5059319 , -1.3780541 , -0.5089628 ],\n",
      "      dtype=float32), 0]\n",
      "[array([ 0.6716266 , -2.2305787 ,  0.4523175 , -0.6288688 , -0.20258127],\n",
      "      dtype=float32), 1]\n",
      "[array([ 1.2920688 , -0.30235445,  0.529395  , -0.61158234, -0.99176794],\n",
      "      dtype=float32), 2]\n",
      "[array([-1.9537941 , -0.7215987 , -1.0443631 , -1.6029885 ,  0.38794613],\n",
      "      dtype=float32), 3]\n",
      "[array([-0.25549248,  0.9723263 ,  0.4431345 ,  0.02318975,  1.1907212 ],\n",
      "      dtype=float32), 4]\n"
     ]
    }
   ],
   "source": [
    "sess.run(data_q)\n",
    "print(sess.run([x,l]))\n",
    "print(sess.run([x,l]))\n",
    "print(sess.run([x,l]))\n",
    "print(sess.run([x,l]))\n",
    "print(sess.run([x,l]))"
   ]
  },
  {
   "cell_type": "code",
   "execution_count": null,
   "metadata": {},
   "outputs": [],
   "source": []
  }
 ],
 "metadata": {
  "kernelspec": {
   "display_name": "Python 3",
   "language": "python",
   "name": "python3"
  },
  "language_info": {
   "codemirror_mode": {
    "name": "ipython",
    "version": 3
   },
   "file_extension": ".py",
   "mimetype": "text/x-python",
   "name": "python",
   "nbconvert_exporter": "python",
   "pygments_lexer": "ipython3",
   "version": "3.4.3"
  }
 },
 "nbformat": 4,
 "nbformat_minor": 2
}
