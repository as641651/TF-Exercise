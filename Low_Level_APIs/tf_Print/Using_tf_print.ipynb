{
 "cells": [
  {
   "cell_type": "code",
   "execution_count": 1,
   "metadata": {},
   "outputs": [
    {
     "name": "stderr",
     "output_type": "stream",
     "text": [
      "/usr/lib/python3.4/importlib/_bootstrap.py:321: FutureWarning: Conversion of the second argument of issubdtype from `float` to `np.floating` is deprecated. In future, it will be treated as `np.float64 == np.dtype(float).type`.\n",
      "  return f(*args, **kwds)\n"
     ]
    },
    {
     "name": "stdout",
     "output_type": "stream",
     "text": [
      "2018-03-19 18:15:10.927888: I tensorflow/stream_executor/cuda/cuda_gpu_executor.cc:898] successful NUMA node read from SysFS had negative value (-1), but there must be at least one NUMA node, so returning NUMA node zero\n",
      "2018-03-19 18:15:10.928290: I tensorflow/core/common_runtime/gpu/gpu_device.cc:1331] Found device 0 with properties: \n",
      "name: GeForce GTX 1060 6GB major: 6 minor: 1 memoryClockRate(GHz): 1.7085\n",
      "pciBusID: 0000:01:00.0\n",
      "totalMemory: 5.93GiB freeMemory: 5.31GiB\n",
      "2018-03-19 18:15:10.928312: I tensorflow/core/common_runtime/gpu/gpu_device.cc:1410] Adding visible gpu devices: 0\n",
      "2018-03-19 18:15:11.082452: I tensorflow/core/common_runtime/gpu/gpu_device.cc:911] Device interconnect StreamExecutor with strength 1 edge matrix:\n",
      "2018-03-19 18:15:11.082484: I tensorflow/core/common_runtime/gpu/gpu_device.cc:917]      0 \n",
      "2018-03-19 18:15:11.082490: I tensorflow/core/common_runtime/gpu/gpu_device.cc:930] 0:   N \n",
      "2018-03-19 18:15:11.082614: I tensorflow/core/common_runtime/gpu/gpu_device.cc:1021] Creating TensorFlow device (/job:localhost/replica:0/task:0/device:GPU:0 with 5088 MB memory) -> physical GPU (device: 0, name: GeForce GTX 1060 6GB, pci bus id: 0000:01:00.0, compute capability: 6.1)\n",
      "New dummy inputs have been created: [0.165652424 -0.11545711 -0.317148179]\n",
      "\n"
     ]
    }
   ],
   "source": [
    "import tensorflow as tf\n",
    "import memory_util\n",
    "\n",
    "dummy_input = tf.random_normal([3], mean=0, stddev=1)\n",
    "dummy_input = tf.Print(dummy_input, data=[dummy_input],\n",
    "                           message='New dummy inputs have been created: ', summarize=6)\n",
    "\n",
    "with memory_util.capture_stderr() as mw:\n",
    "    tf.Session().run(dummy_input)\n",
    "print(mw.getvalue())"
   ]
  },
  {
   "cell_type": "code",
   "execution_count": null,
   "metadata": {},
   "outputs": [],
   "source": []
  }
 ],
 "metadata": {
  "kernelspec": {
   "display_name": "Python 3",
   "language": "python",
   "name": "python3"
  },
  "language_info": {
   "codemirror_mode": {
    "name": "ipython",
    "version": 3
   },
   "file_extension": ".py",
   "mimetype": "text/x-python",
   "name": "python",
   "nbconvert_exporter": "python",
   "pygments_lexer": "ipython3",
   "version": "3.4.3"
  }
 },
 "nbformat": 4,
 "nbformat_minor": 2
}
