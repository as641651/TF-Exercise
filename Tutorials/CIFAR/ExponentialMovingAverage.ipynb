{
 "cells": [
  {
   "cell_type": "markdown",
   "metadata": {},
   "source": [
    "## Exponential moving average"
   ]
  },
  {
   "cell_type": "code",
   "execution_count": 2,
   "metadata": {},
   "outputs": [],
   "source": [
    "import tensorflow as tf\n",
    "import os\n",
    "%matplotlib inline\n",
    "import matplotlib.pyplot as plt"
   ]
  },
  {
   "cell_type": "markdown",
   "metadata": {},
   "source": [
    "### Notations"
   ]
  },
  {
   "cell_type": "markdown",
   "metadata": {},
   "source": [
    "$ av_{t} = av_{t-1} + \\alpha(w_{t-1} - av_{t-1})$\n",
    "\n",
    "$ av_{t} = (1-\\alpha)av_{t-1} + \\alpha w_{t-1}$\n",
    "\n",
    "$ av_{t} = $decay$.av_{t-1} + $(1-decay)$ w_{t-1}$\n",
    "\n",
    "$ \\alpha = 1 - $ decay "
   ]
  },
  {
   "cell_type": "code",
   "execution_count": 83,
   "metadata": {},
   "outputs": [
    {
     "name": "stdout",
     "output_type": "stream",
     "text": [
      "0.0 0.0\n",
      "1.0 0.0\n",
      "2.0 1.0\n",
      "3.0 2.0\n",
      "4.0 3.0\n",
      "5.0 4.0\n",
      "6.0 5.0\n",
      "7.0 6.0\n",
      "8.0 7.0\n",
      "9.0 8.0\n",
      "10.0 9.0\n",
      "11.0 10.0\n",
      "12.0 11.0\n",
      "13.0 12.0\n",
      "14.0 13.0\n",
      "15.0 14.0\n",
      "16.0 15.0\n",
      "17.0 16.0\n",
      "18.0 17.0\n",
      "19.0 18.0\n",
      "20.0 19.0\n",
      "21.0 20.0\n",
      "22.0 21.0\n",
      "23.0 22.0\n",
      "24.0 23.0\n",
      "25.0 24.0\n",
      "26.0 25.0\n",
      "27.0 26.0\n",
      "28.0 27.0\n",
      "29.0 28.0\n",
      "30.0 29.0\n",
      "31.0 30.0\n",
      "32.0 31.0\n",
      "33.0 32.0\n",
      "34.0 33.0\n",
      "35.0 34.0\n",
      "36.0 35.0\n",
      "37.0 36.0\n",
      "38.0 37.0\n",
      "39.0 38.0\n",
      "40.0 39.0\n",
      "41.0 40.0\n",
      "42.0 41.0\n",
      "43.0 42.0\n",
      "44.0 43.0\n",
      "45.0 44.0\n",
      "46.0 45.0\n",
      "47.0 46.0\n",
      "48.0 47.0\n",
      "49.0 48.0\n"
     ]
    }
   ],
   "source": [
    "tf.reset_default_graph()\n",
    "with tf.variable_scope(\"EMA\"):\n",
    "    w = tf.Variable(0, dtype=tf.float32,name=\"w\")\n",
    "    ema = tf.train.ExponentialMovingAverage(decay=0.)\n",
    "    m = ema.apply([w])\n",
    "    av = ema.average(w)\n",
    "\n",
    "\n",
    "li = tf.range(0,50,dtype=tf.float32,name=\"li\")\n",
    "i_ = tf.Variable(0,name=\"i\")\n",
    "with tf.control_dependencies([m]):\n",
    "    c = w.assign(li[i_])\n",
    "    with tf.control_dependencies([c]):\n",
    "        ic = i_.assign_add(1)\n",
    "\n",
    "#tf.summary.FileWriter(\"log/ema_cd\",tf.Session().graph)\n",
    "\n",
    "with tf.Session() as sess:\n",
    "    sess.run(tf.global_variables_initializer())\n",
    "    for i in range(50):\n",
    "        _,w_ = sess.run([ic,c])\n",
    "        av_ = sess.run(av)\n",
    "        print(w_,av_)"
   ]
  },
  {
   "cell_type": "code",
   "execution_count": 116,
   "metadata": {},
   "outputs": [
    {
     "name": "stdout",
     "output_type": "stream",
     "text": [
      "1.0 0.0\n",
      "2.0 0.9\n",
      "3.0 1.89\n",
      "4.0 2.889\n",
      "5.0 3.8889\n",
      "6.0 4.88889\n",
      "7.0 5.888889\n",
      "8.0 6.888889\n",
      "9.0 7.888889\n",
      "10.0 8.888889\n",
      "11.0 9.888889\n",
      "12.0 10.888889\n",
      "13.0 11.888889\n",
      "14.0 12.888889\n",
      "15.0 13.888889\n",
      "16.0 14.888889\n",
      "17.0 15.888889\n",
      "18.0 16.88889\n",
      "19.0 17.88889\n",
      "20.0 18.88889\n",
      "21.0 19.88889\n",
      "22.0 20.88889\n",
      "23.0 21.88889\n",
      "24.0 22.88889\n",
      "25.0 23.88889\n",
      "26.0 24.88889\n",
      "27.0 25.88889\n",
      "28.0 26.88889\n",
      "29.0 27.88889\n",
      "30.0 28.88889\n",
      "31.0 29.88889\n",
      "32.0 30.88889\n",
      "33.0 31.88889\n",
      "34.0 32.88889\n",
      "35.0 33.88889\n",
      "36.0 34.88889\n",
      "37.0 35.88889\n",
      "38.0 36.88889\n",
      "39.0 37.88889\n",
      "40.0 38.88889\n",
      "41.0 39.88889\n",
      "42.0 40.88889\n",
      "43.0 41.88889\n",
      "44.0 42.88889\n",
      "45.0 43.88889\n",
      "46.0 44.88889\n",
      "47.0 45.88889\n",
      "48.0 46.88889\n",
      "49.0 47.88889\n",
      "50.0 48.88889\n"
     ]
    }
   ],
   "source": [
    "tf.reset_default_graph()\n",
    "with tf.variable_scope(\"EMA\"):\n",
    "    w = tf.Variable(0, dtype=tf.float32,name=\"w\")\n",
    "    ema = tf.train.ExponentialMovingAverage(decay=0.1)\n",
    "    m = ema.apply([w])\n",
    "    av = ema.average(w)\n",
    "\n",
    "with tf.control_dependencies([m]):\n",
    "    c = w.assign_add(1)\n",
    "\n",
    "with tf.Session() as sess:\n",
    "    sess.run(tf.global_variables_initializer())\n",
    "    for i in range(50):\n",
    "        w_ = sess.run(c)\n",
    "        av_ = sess.run(av)\n",
    "        print(w_,av_)"
   ]
  },
  {
   "cell_type": "code",
   "execution_count": 96,
   "metadata": {},
   "outputs": [
    {
     "name": "stdout",
     "output_type": "stream",
     "text": [
      "1.0 1.0\n",
      "2.0 2.0\n",
      "3.0 3.0\n",
      "4.0 4.0\n",
      "5.0 5.0\n",
      "6.0 6.0\n",
      "7.0 7.0\n",
      "8.0 8.0\n",
      "9.0 9.0\n",
      "10.0 10.0\n",
      "11.0 11.0\n",
      "12.0 12.0\n",
      "13.0 13.0\n",
      "14.0 14.0\n",
      "15.0 15.0\n",
      "16.0 16.0\n",
      "17.0 17.0\n",
      "18.0 18.0\n",
      "19.0 19.0\n",
      "20.0 20.0\n",
      "21.0 21.0\n",
      "22.0 22.0\n",
      "23.0 23.0\n",
      "24.0 24.0\n",
      "25.0 25.0\n",
      "26.0 26.0\n",
      "27.0 27.0\n",
      "28.0 28.0\n",
      "29.0 29.0\n",
      "30.0 30.0\n",
      "31.0 31.0\n",
      "32.0 32.0\n",
      "33.0 33.0\n",
      "34.0 34.0\n",
      "35.0 35.0\n",
      "36.0 36.0\n",
      "37.0 37.0\n",
      "38.0 38.0\n",
      "39.0 39.0\n",
      "40.0 40.0\n",
      "41.0 41.0\n",
      "42.0 42.0\n",
      "43.0 43.0\n",
      "44.0 44.0\n",
      "45.0 45.0\n",
      "46.0 46.0\n",
      "47.0 47.0\n",
      "48.0 48.0\n",
      "49.0 49.0\n",
      "50.0 50.0\n"
     ]
    }
   ],
   "source": [
    "tf.reset_default_graph()\n",
    "with tf.variable_scope(\"EMA\"):\n",
    "    w = tf.Variable(0, dtype=tf.float32,name=\"w\")\n",
    "    ema = tf.train.ExponentialMovingAverage(decay=0.)\n",
    "\n",
    "    \n",
    "c = w.assign_add(1)\n",
    "\n",
    "with tf.control_dependencies([c]):\n",
    "        m = ema.apply([w])\n",
    "        \n",
    "av = ema.average(w)\n",
    "        \n",
    "with tf.Session() as sess:\n",
    "    sess.run(tf.global_variables_initializer())\n",
    "    for i in range(50):\n",
    "        _,w_ = sess.run([m,c])\n",
    "        av_ = sess.run(av)\n",
    "        #w_ = sess.run(c)\n",
    "        print(w_,av_)"
   ]
  },
  {
   "cell_type": "code",
   "execution_count": 128,
   "metadata": {},
   "outputs": [
    {
     "data": {
      "text/plain": [
       "{'EMA/EMA/w/ExponentialMovingAverage': <tf.Variable 'EMA/w:0' shape=() dtype=float32_ref>}"
      ]
     },
     "execution_count": 128,
     "metadata": {},
     "output_type": "execute_result"
    }
   ],
   "source": [
    "ema.variables_to_restore()"
   ]
  },
  {
   "cell_type": "markdown",
   "metadata": {},
   "source": [
    "### Get a mapping from EMA variable names to variable names"
   ]
  },
  {
   "cell_type": "code",
   "execution_count": 133,
   "metadata": {},
   "outputs": [
    {
     "data": {
      "text/plain": [
       "{'w1/ExponentialMovingAverage': <tf.Variable 'w1:0' shape=() dtype=float32_ref>,\n",
       " 'w2/ExponentialMovingAverage': <tf.Variable 'w2:0' shape=() dtype=float32_ref>}"
      ]
     },
     "execution_count": 133,
     "metadata": {},
     "output_type": "execute_result"
    }
   ],
   "source": [
    "tf.reset_default_graph()\n",
    "w1 = tf.Variable(0, dtype=tf.float32,name=\"w1\")\n",
    "w2 = tf.Variable(0, dtype=tf.float32,name=\"w2\")\n",
    "\n",
    "ema1 = tf.train.ExponentialMovingAverage(decay=0.)\n",
    "ema1.variables_to_restore()"
   ]
  }
 ],
 "metadata": {
  "kernelspec": {
   "display_name": "Python 3",
   "language": "python",
   "name": "python3"
  },
  "language_info": {
   "codemirror_mode": {
    "name": "ipython",
    "version": 3
   },
   "file_extension": ".py",
   "mimetype": "text/x-python",
   "name": "python",
   "nbconvert_exporter": "python",
   "pygments_lexer": "ipython3",
   "version": "3.4.3"
  }
 },
 "nbformat": 4,
 "nbformat_minor": 2
}
