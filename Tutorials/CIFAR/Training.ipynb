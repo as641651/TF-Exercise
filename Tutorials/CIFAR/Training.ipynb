{
 "cells": [
  {
   "cell_type": "code",
   "execution_count": 2,
   "metadata": {},
   "outputs": [],
   "source": [
    "import tensorflow as tf\n",
    "import os\n",
    "%matplotlib inline\n",
    "import matplotlib.pyplot as plt"
   ]
  },
  {
   "cell_type": "markdown",
   "metadata": {},
   "source": [
    "### Utilities"
   ]
  },
  {
   "cell_type": "code",
   "execution_count": 3,
   "metadata": {},
   "outputs": [],
   "source": [
    "def run_tf(x):\n",
    "    \n",
    "    config = tf.ConfigProto()\n",
    "    config.gpu_options.allow_growth=True\n",
    "    with tf.Session(config=config) as sess: \n",
    "        sess.run(tf.global_variables_initializer())\n",
    "        coord = tf.train.Coordinator()\n",
    "        threads = tf.train.start_queue_runners(coord=coord)\n",
    "\n",
    "        out = sess.run(x)\n",
    "\n",
    "        coord.request_stop()\n",
    "        coord.join(threads)\n",
    "        \n",
    "        return out\n",
    "    \n",
    "\n",
    "class FLAGS(object):\n",
    "    pass\n",
    "\n",
    "FLAGS.batch_size = 10\n",
    "FLAGS.data_dir = \"/home/sankaran/exercise/ML/TF-Exercise/Tutorials/CIFAR/cifar-10-batches-bin\"\n",
    "FLAGS.num_preprocess_threads = 16\n",
    "FLAGS.num_classes = 10\n",
    "\n",
    "def distorted_inputs(data_dir, batch_size, distort=True):\n",
    "    \n",
    "    filenames = [os.path.join(data_dir, 'data_batch_%d.bin' % i) for i in range(1, 6)]\n",
    "    \n",
    "    # Create a queue that produces the filenames to read.\n",
    "    filename_queue = tf.train.string_input_producer(filenames,seed=0)\n",
    "    \n",
    "    #Create FixedLenthRecord Reader with fixed bytes to read\n",
    "    record_bytes = 32*32*3+1 #32*32*3 image with 1 byte for label\n",
    "    reader = tf.FixedLengthRecordReader(record_bytes=record_bytes)\n",
    "    \n",
    "    key, value = reader.read(filename_queue)\n",
    "    \n",
    "    ##Decode\n",
    "    decoded = tf.decode_raw(value, tf.uint8)\n",
    "    label = tf.strided_slice(decoded,[0],[1])\n",
    "    image = tf.strided_slice(decoded,[1],[record_bytes])\n",
    "    \n",
    "    \n",
    "    label = tf.cast(label,tf.int32)\n",
    "    label = tf.reshape(label,[1])\n",
    "    image = tf.reshape(image,[3,32,32])\n",
    "    image = tf.transpose(image,[1,2,0])\n",
    "    #image = tf.cast(image,tf.float32) ## DESTROYES IMAGE VIS\n",
    "    \n",
    "    ##PRE PROCESS\n",
    "    if(distort):\n",
    "        image = tf.random_crop(image, [24, 24, 3])\n",
    "        image = tf.image.random_flip_left_right(image)\n",
    "        image = tf.image.random_brightness(image,max_delta=0.4)\n",
    "        image = tf.image.random_contrast(image,lower=0.5,upper=1.8)\n",
    "    \n",
    "    image = tf.image.convert_image_dtype(image,dtype=tf.float32)\n",
    "    # Ensure that the random shuffling has good mixing properties.\n",
    "    min_fraction_of_examples_in_queue = 0.4\n",
    "    NUM_EXAMPLES_PER_EPOCH_FOR_TRAIN = 50000\n",
    "    min_queue_examples = int(NUM_EXAMPLES_PER_EPOCH_FOR_TRAIN *\n",
    "                             min_fraction_of_examples_in_queue)\n",
    "    \n",
    "    images, label_batch = tf.train.shuffle_batch(\n",
    "        [image, label],\n",
    "        batch_size=batch_size,\n",
    "        num_threads=FLAGS.num_preprocess_threads,\n",
    "        capacity=min_queue_examples + 3 * batch_size,\n",
    "        min_after_dequeue=min_queue_examples,\n",
    "        seed=0)\n",
    "    \n",
    "    return [images,label_batch]"
   ]
  },
  {
   "cell_type": "code",
   "execution_count": 4,
   "metadata": {},
   "outputs": [],
   "source": [
    "def inference(images):\n",
    "    \n",
    "    def weight_variable(shape,std=0.1,dtype=tf.float32):\n",
    "      initializer = tf.truncated_normal_initializer(stddev=std, dtype=dtype)\n",
    "      return tf.get_variable(\"Weights\",shape,initializer=initializer,dtype=dtype)\n",
    "\n",
    "    def bias_variable(shape,const=0.0,dtype=tf.float32):\n",
    "      initializer = tf.constant_initializer(const,dtype)\n",
    "      return tf.get_variable(\"biases\",shape,initializer=initializer,dtype=dtype)\n",
    "    \n",
    "    print(\"input : \", images)\n",
    "    \n",
    "    with tf.variable_scope(\"conv1\"):\n",
    "        W_conv1 = weight_variable([5, 5, 3, 64])\n",
    "        b_conv1 = bias_variable([64])\n",
    "\n",
    "        conv = tf.nn.conv2d(images,W_conv1,strides=[1,1,1,1],padding=\"SAME\")\n",
    "        h_conv1 = tf.nn.relu(conv + b_conv1)\n",
    "        \n",
    "        print(\"conv 1 : \",h_conv1)\n",
    "        \n",
    "    with tf.variable_scope(\"maxpool1\"):\n",
    "        h_pool1 = tf.nn.max_pool(h_conv1,ksize=[1,3,3,1],strides=[1,2,2,1],padding=\"SAME\")\n",
    "        \n",
    "        print(\"pool 1 : \",h_pool1)\n",
    "        \n",
    "    with tf.variable_scope(\"conv2\"):\n",
    "        W_conv2 = weight_variable([5, 5, 64, 64])\n",
    "        b_conv2 = bias_variable([64])\n",
    "\n",
    "        conv = tf.nn.conv2d(h_pool1,W_conv2,strides=[1,1,1,1],padding=\"SAME\")\n",
    "        h_conv2 = tf.nn.relu(conv + b_conv2)\n",
    "        \n",
    "        print(\"conv 2 : \",h_conv2)\n",
    "        \n",
    "    with tf.variable_scope(\"maxpool2\"):\n",
    "        h_pool2 = tf.nn.max_pool(h_conv2,ksize=[1,3,3,1],strides=[1,2,2,1],padding=\"SAME\")\n",
    "        \n",
    "        print(\"pool 2 : \",h_pool2)\n",
    "        \n",
    "    with tf.variable_scope(\"Flatten\"):\n",
    "        h_pool2_flat = tf.reshape(h_pool2, [FLAGS.batch_size, -1])\n",
    "        \n",
    "        print(\"flatten : \",h_pool2_flat)\n",
    "        \n",
    "    with tf.variable_scope(\"fc1\"):\n",
    "        W_fc1 = weight_variable([h_pool2_flat.shape[1].value, 384])\n",
    "        b_fc1 = bias_variable([384])\n",
    "        h_fc1 = tf.nn.relu(tf.matmul(h_pool2_flat, W_fc1) + b_fc1)\n",
    "        \n",
    "        print(\"fc1 : \",h_fc1)\n",
    "        \n",
    "    with tf.variable_scope(\"fc2\"):\n",
    "        W_fc2 = weight_variable([384, 192])\n",
    "        b_fc2 = bias_variable([192])\n",
    "        h_fc2 = tf.nn.relu(tf.matmul(h_fc1, W_fc2) + b_fc2)\n",
    "        \n",
    "        print(\"fc2 : \",h_fc2)\n",
    "        \n",
    "    with tf.variable_scope(\"logit\"):\n",
    "        W_fc3 = weight_variable([192, FLAGS.num_classes])\n",
    "        b_fc3 = bias_variable([FLAGS.num_classes])\n",
    "        logit = tf.nn.relu(tf.matmul(h_fc2, W_fc3) + b_fc3)\n",
    "        \n",
    "        print(\"logit : \",logit)\n",
    "        \n",
    "        return logit"
   ]
  },
  {
   "cell_type": "code",
   "execution_count": 5,
   "metadata": {},
   "outputs": [
    {
     "name": "stdout",
     "output_type": "stream",
     "text": [
      "input :  Tensor(\"Input-queue/shuffle_batch:0\", shape=(10, 24, 24, 3), dtype=float32)\n",
      "conv 1 :  Tensor(\"conv1/Relu:0\", shape=(10, 24, 24, 64), dtype=float32)\n",
      "pool 1 :  Tensor(\"maxpool1/MaxPool:0\", shape=(10, 12, 12, 64), dtype=float32)\n",
      "conv 2 :  Tensor(\"conv2/Relu:0\", shape=(10, 12, 12, 64), dtype=float32)\n",
      "pool 2 :  Tensor(\"maxpool2/MaxPool:0\", shape=(10, 6, 6, 64), dtype=float32)\n",
      "flatten :  Tensor(\"Flatten/Reshape:0\", shape=(10, 2304), dtype=float32)\n",
      "fc1 :  Tensor(\"fc1/Relu:0\", shape=(10, 384), dtype=float32)\n",
      "fc2 :  Tensor(\"fc2/Relu:0\", shape=(10, 192), dtype=float32)\n",
      "logit :  Tensor(\"logit/Relu:0\", shape=(10, 10), dtype=float32)\n"
     ]
    }
   ],
   "source": [
    "with tf.variable_scope(\"Input-queue\"):\n",
    "    images,labels = distorted_inputs(FLAGS.data_dir,FLAGS.batch_size)\n",
    "    \n",
    "logit = inference(images)"
   ]
  },
  {
   "cell_type": "code",
   "execution_count": 7,
   "metadata": {},
   "outputs": [
    {
     "data": {
      "text/plain": [
       "array([[ 3.7050295 ,  0.        ,  1.2130672 ,  0.22528875,  5.1103187 ,\n",
       "         0.        ,  0.43403953,  0.        ,  5.7027917 ,  0.        ],\n",
       "       [ 4.691639  ,  0.        ,  4.3102665 ,  0.        ,  8.06484   ,\n",
       "         0.        ,  0.11986804,  0.        , 10.907906  ,  0.        ],\n",
       "       [ 1.7223086 ,  0.        ,  0.        ,  0.        ,  2.2410486 ,\n",
       "         0.        ,  3.3296764 ,  0.        ,  4.1415834 ,  0.        ],\n",
       "       [ 4.678101  ,  0.        ,  2.9157789 ,  0.        ,  7.0115767 ,\n",
       "         0.        ,  1.1772975 ,  0.        ,  9.165938  ,  0.        ],\n",
       "       [ 3.6860223 ,  0.        ,  2.8508024 ,  0.        ,  4.814333  ,\n",
       "         0.        ,  0.41808775,  0.        ,  7.444767  ,  0.        ],\n",
       "       [ 5.5728664 ,  0.        ,  1.952989  ,  0.        ,  7.702625  ,\n",
       "         0.        ,  0.6654564 ,  0.        , 12.101912  ,  0.        ],\n",
       "       [ 6.1383314 ,  0.        ,  4.673526  ,  0.        , 10.266353  ,\n",
       "         0.        ,  1.5503895 ,  0.        , 12.641108  ,  0.        ],\n",
       "       [ 3.6535025 ,  0.        ,  1.624203  ,  0.        ,  7.911163  ,\n",
       "         0.        ,  0.9068799 ,  0.        ,  6.752944  ,  0.        ],\n",
       "       [ 4.789118  ,  0.        ,  3.9219165 ,  0.        , 10.008415  ,\n",
       "         0.        ,  1.5229625 ,  0.        ,  9.338028  ,  0.        ],\n",
       "       [ 6.5087514 ,  0.        ,  4.3401685 ,  0.        ,  8.452957  ,\n",
       "         0.        ,  0.9093379 ,  0.        , 10.3817    ,  0.        ]],\n",
       "      dtype=float32)"
      ]
     },
     "execution_count": 7,
     "metadata": {},
     "output_type": "execute_result"
    }
   ],
   "source": [
    "out = run_tf(logit)\n",
    "out"
   ]
  },
  {
   "cell_type": "markdown",
   "metadata": {},
   "source": [
    "### Loss function"
   ]
  },
  {
   "cell_type": "code",
   "execution_count": 8,
   "metadata": {},
   "outputs": [],
   "source": [
    "def loss(logit,lables):\n",
    "    \n",
    "    with tf.variable_scope(\"cross-entropy\"):\n",
    "        cross_entropy = tf.nn.sparse_softmax_cross_entropy_with_logits(labels=tf.reshape(labels,[FLAGS.num_classes]), logits=logit)\n",
    "        avg_cross_entropy = tf.reduce_mean(cross_entropy)"
   ]
  },
  {
   "cell_type": "markdown",
   "metadata": {},
   "source": [
    "### Training"
   ]
  },
  {
   "cell_type": "markdown",
   "metadata": {},
   "source": [
    "**DECAYING LEARNING RATE**\n",
    "\n",
    "**tf.train.exponential_decay**\n",
    "\n",
    "Reduces learning rate exponentially every **decay_steps**\n",
    "\n",
    "decayed_learning_rate = learning_rate X decay_rate ^ (global_step / decay_steps)\n"
   ]
  },
  {
   "cell_type": "code",
   "execution_count": 34,
   "metadata": {},
   "outputs": [
    {
     "data": {
      "text/plain": [
       "0.007943282"
      ]
     },
     "execution_count": 34,
     "metadata": {},
     "output_type": "execute_result"
    }
   ],
   "source": [
    "lr = tf.train.exponential_decay(learning_rate=0.01,global_step=10,decay_steps=100,decay_rate=0.1)\n",
    "tf.Session().run(lr)"
   ]
  },
  {
   "cell_type": "code",
   "execution_count": 16,
   "metadata": {},
   "outputs": [
    {
     "data": {
      "text/plain": [
       "0.001"
      ]
     },
     "execution_count": 16,
     "metadata": {},
     "output_type": "execute_result"
    }
   ],
   "source": [
    "lr = tf.train.exponential_decay(0.01,100,100,0.1)\n",
    "tf.Session().run(lr)"
   ]
  },
  {
   "cell_type": "code",
   "execution_count": 17,
   "metadata": {},
   "outputs": [
    {
     "data": {
      "text/plain": [
       "0.000100000005"
      ]
     },
     "execution_count": 17,
     "metadata": {},
     "output_type": "execute_result"
    }
   ],
   "source": [
    "lr = tf.train.exponential_decay(0.01,200,100,0.1)\n",
    "tf.Session().run(lr)"
   ]
  },
  {
   "cell_type": "code",
   "execution_count": 29,
   "metadata": {},
   "outputs": [],
   "source": [
    "e = []\n",
    "for i in range(1000):\n",
    "    e.append(tf.train.exponential_decay(0.1,i,200,0.01))\n",
    "e_lr = tf.Session().run(e)"
   ]
  },
  {
   "cell_type": "code",
   "execution_count": 30,
   "metadata": {},
   "outputs": [
    {
     "data": {
      "text/plain": [
       "[<matplotlib.lines.Line2D at 0x7fe25771c208>]"
      ]
     },
     "execution_count": 30,
     "metadata": {},
     "output_type": "execute_result"
    },
    {
     "data": {
      "image/png": "[encoded data removed]",
      "text/plain": [
       "<matplotlib.figure.Figure at 0x7fe25f94d390>"
      ]
     },
     "metadata": {},
     "output_type": "display_data"
    }
   ],
   "source": [
    "plt.plot(e_lr)"
   ]
  },
  {
   "cell_type": "markdown",
   "metadata": {},
   "source": [
    "**tf.train.ExponentialMovingAverage**"
   ]
  },
  {
   "cell_type": "code",
   "execution_count": 166,
   "metadata": {},
   "outputs": [],
   "source": [
    "em = tf.train.ExponentialMovingAverage(0.9)"
   ]
  },
  {
   "cell_type": "code",
   "execution_count": 167,
   "metadata": {},
   "outputs": [],
   "source": [
    "a = tf.Variable(5.)\n",
    "y = 5."
   ]
  },
  {
   "cell_type": "code",
   "execution_count": 168,
   "metadata": {},
   "outputs": [],
   "source": [
    "em.apply([a])\n",
    "x = em.average(a)"
   ]
  },
  {
   "cell_type": "code",
   "execution_count": 169,
   "metadata": {},
   "outputs": [],
   "source": [
    "with tf.Session() as sess:\n",
    "    sess.run(tf.global_variables_initializer())\n",
    "    sess.run(a.assign(y))\n",
    "    xl = sess.run(x)"
   ]
  },
  {
   "cell_type": "code",
   "execution_count": 170,
   "metadata": {},
   "outputs": [
    {
     "data": {
      "text/plain": [
       "5.0"
      ]
     },
     "execution_count": 170,
     "metadata": {},
     "output_type": "execute_result"
    }
   ],
   "source": [
    "xl"
   ]
  },
  {
   "cell_type": "code",
   "execution_count": 165,
   "metadata": {},
   "outputs": [],
   "source": [
    "y=6."
   ]
  },
  {
   "cell_type": "code",
   "execution_count": 181,
   "metadata": {},
   "outputs": [
    {
     "name": "stdout",
     "output_type": "stream",
     "text": [
      "0.0 , 0.0\n",
      "0.020000001 , 0.019800002\n",
      "0.03996 , 0.019800002\n",
      "0.05988008 , 0.0397584\n",
      "0.07976032 , 0.059678867\n",
      "0.0996008 , 0.079559505\n",
      "0.1194016 , 0.119201586\n",
      "0.1391628 , 0.13896318\n",
      "0.15888447 , 0.13896318\n",
      "0.1785667 , 0.15868525\n",
      "0.19820955 , 0.17836788\n",
      "0.21781313 , 0.19801113\n",
      "0.23737751 , 0.21761511\n",
      "0.25690275 , 0.23717989\n",
      "0.27638894 , 0.25670552\n",
      "0.29583618 , 0.2761921\n",
      "0.3152445 , 0.29563975\n",
      "0.334614 , 0.31504846\n",
      "0.35394478 , 0.3537495\n",
      "0.3732369 , 0.3537495\n",
      "0.39249042 , 0.39229593\n",
      "0.41170543 , 0.39229593\n",
      "0.43088204 , 0.41151133\n",
      "0.45002028 , 0.43068832\n",
      "0.46912023 , 0.44982696\n",
      "0.488182 , 0.4689273\n",
      "0.50720567 , 0.48798946\n",
      "0.52619123 , 0.5070135\n",
      "0.54513884 , 0.5259994\n",
      "0.5640485 , 0.54494745\n",
      "0.58292043 , 0.5638575\n",
      "0.6017546 , 0.5827298\n",
      "0.6205511 , 0.60156435\n",
      "0.63931 , 0.62036127\n",
      "0.6580314 , 0.6391205\n",
      "0.6767153 , 0.6578423\n",
      "0.6953619 , 0.6765266\n",
      "0.7139712 , 0.69517356\n",
      "0.73254323 , 0.73235565\n",
      "0.7510781 , 0.73235565\n",
      "0.76957595 , 0.7508909\n",
      "0.7880368 , 0.7693891\n",
      "0.80646074 , 0.7878503\n",
      "0.8248478 , 0.80627465\n",
      "0.8431981 , 0.8246621\n",
      "0.8615117 , 0.84301275\n",
      "0.8797887 , 0.8613267\n",
      "0.89802915 , 0.8796041\n",
      "0.91623306 , 0.8978449\n",
      "0.9344006 , 0.9160492\n"
     ]
    }
   ],
   "source": [
    "\n",
    "w = tf.Variable(0, dtype=tf.float32)\n",
    "ema = tf.train.ExponentialMovingAverage(decay=0.01)\n",
    "m = ema.apply([w])\n",
    "av = ema.average(w)\n",
    "\n",
    "x = tf.placeholder(tf.float32, [None])\n",
    "y = tf.placeholder(tf.float32, [None])\n",
    "y_ = tf.multiply(x, w)\n",
    "\n",
    "with tf.control_dependencies([m]):\n",
    "    loss = tf.reduce_sum(tf.square(tf.subtract(y, y_)))\n",
    "    optimizer = tf.train.GradientDescentOptimizer(learning_rate=0.001)\n",
    "    train = optimizer.minimize(loss)\n",
    "\n",
    "with tf.Session() as sess:\n",
    "    sess.run(tf.global_variables_initializer())\n",
    "    for i in range(50):\n",
    "        _, w_, av_ = sess.run([train, w, av], feed_dict={x: [1], y: [10]})\n",
    "        print(w_, ',', av_)"
   ]
  },
  {
   "cell_type": "code",
   "execution_count": 196,
   "metadata": {},
   "outputs": [
    {
     "name": "stdout",
     "output_type": "stream",
     "text": [
      "0.0 0.0\n",
      "1.0 0.0\n",
      "3.0 0.0\n",
      "3.0 0.99\n",
      "4.0 2.9799\n",
      "6.0 2.999799\n",
      "6.0 3.9899979\n",
      "7.0 5.9799\n",
      "9.0 5.999799\n",
      "9.0 6.989998\n",
      "10.0 8.9799\n",
      "11.0 8.999799\n",
      "12.0 9.989998\n",
      "14.0 10.9899\n",
      "14.0 13.979899\n",
      "15.0 13.979899\n",
      "16.0 13.999799\n",
      "17.0 14.989998\n",
      "18.0 15.9899\n",
      "19.0 16.989899\n",
      "21.0 17.989899\n",
      "21.0 20.979898\n",
      "22.0 20.9998\n",
      "23.0 20.9998\n",
      "25.0 21.989998\n",
      "25.0 22.9899\n",
      "26.0 24.979898\n",
      "28.0 24.9998\n",
      "29.0 25.989998\n",
      "29.0 27.9799\n",
      "30.0 28.999899\n",
      "31.0 29.99\n",
      "32.0 29.99\n",
      "33.0 31.989899\n",
      "34.0 31.989899\n",
      "35.0 33.9899\n",
      "36.0 33.9899\n",
      "37.0 34.9899\n",
      "38.0 35.9899\n",
      "39.0 36.9899\n",
      "40.0 37.9899\n",
      "41.0 38.9899\n",
      "43.0 39.9899\n",
      "44.0 40.9899\n",
      "44.0 43.9898\n",
      "45.0 43.9898\n",
      "46.0 43.999897\n",
      "47.0 44.989998\n",
      "48.0 45.9899\n",
      "49.0 46.9899\n"
     ]
    }
   ],
   "source": [
    "w = tf.Variable(0, dtype=tf.float32)\n",
    "ema = tf.train.ExponentialMovingAverage(decay=0.01)\n",
    "m = ema.apply([w])\n",
    "av = ema.average(w)\n",
    "\n",
    "li = tf.range(0,50,dtype=tf.float32)\n",
    "i_ = tf.Variable(0)\n",
    "with tf.control_dependencies([m]):\n",
    "    ic = i_.assign_add(1)\n",
    "    c = w.assign(li[i_])\n",
    "\n",
    "with tf.Session() as sess:\n",
    "    sess.run(tf.global_variables_initializer())\n",
    "    for i in range(50):\n",
    "        _,w_,av_ = sess.run([ic,c,av])\n",
    "        print(w_,av_)"
   ]
  },
  {
   "cell_type": "code",
   "execution_count": 187,
   "metadata": {},
   "outputs": [],
   "source": [
    "i_ = tf.constant(0)"
   ]
  },
  {
   "cell_type": "code",
   "execution_count": 188,
   "metadata": {},
   "outputs": [
    {
     "data": {
      "text/plain": [
       "<tf.Tensor 'add_1:0' shape=() dtype=int32>"
      ]
     },
     "execution_count": 188,
     "metadata": {},
     "output_type": "execute_result"
    }
   ],
   "source": [
    "i_+1"
   ]
  },
  {
   "cell_type": "code",
   "execution_count": null,
   "metadata": {},
   "outputs": [],
   "source": []
  }
 ],
 "metadata": {
  "kernelspec": {
   "display_name": "Python 3",
   "language": "python",
   "name": "python3"
  },
  "language_info": {
   "codemirror_mode": {
    "name": "ipython",
    "version": 3
   },
   "file_extension": ".py",
   "mimetype": "text/x-python",
   "name": "python",
   "nbconvert_exporter": "python",
   "pygments_lexer": "ipython3",
   "version": "3.4.3"
  }
 },
 "nbformat": 4,
 "nbformat_minor": 2
}
