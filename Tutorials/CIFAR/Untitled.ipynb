{
 "cells": [
  {
   "cell_type": "code",
   "execution_count": 1,
   "metadata": {},
   "outputs": [],
   "source": [
    "label = 9\n",
    "red = 0 \n",
    "blue = 128\n",
    "green = 255\n",
    "\n",
    "image_size = 32 * 32\n",
    "record = bytes(bytearray([label] + [red] * image_size + [green] * image_size + [blue] * image_size))\n",
    "expected = [[[red, green, blue]] * 32] * 32"
   ]
  },
  {
   "cell_type": "code",
   "execution_count": 3,
   "metadata": {},
   "outputs": [
    {
     "data": {
      "text/plain": [
       "bytes"
      ]
     },
     "execution_count": 3,
     "metadata": {},
     "output_type": "execute_result"
    }
   ],
   "source": [
    "type(record)"
   ]
  },
  {
   "cell_type": "code",
   "execution_count": 7,
   "metadata": {},
   "outputs": [
    {
     "data": {
      "text/plain": [
       "(32, 32, 3)"
      ]
     },
     "execution_count": 7,
     "metadata": {},
     "output_type": "execute_result"
    }
   ],
   "source": [
    "import numpy as np\n",
    "\n",
    "np.array(expected).shape"
   ]
  },
  {
   "cell_type": "code",
   "execution_count": 11,
   "metadata": {},
   "outputs": [
    {
     "data": {
      "text/plain": [
       "[[[0, 128, 255], [0, 128, 255], [0, 128, 255]],\n",
       " [[0, 128, 255], [0, 128, 255], [0, 128, 255]],\n",
       " [[0, 128, 255], [0, 128, 255], [0, 128, 255]]]"
      ]
     },
     "execution_count": 11,
     "metadata": {},
     "output_type": "execute_result"
    }
   ],
   "source": [
    "[[[0,128,255]]*3]*3"
   ]
  },
  {
   "cell_type": "code",
   "execution_count": 17,
   "metadata": {},
   "outputs": [],
   "source": [
    "from six.moves import xrange\n",
    "import os\n",
    "\n",
    "data_dir = \"lol\"\n",
    "filenames = [os.path.join(data_dir, 'data_batch_%d.bin' % i) for i in xrange(1, 6)]"
   ]
  },
  {
   "cell_type": "code",
   "execution_count": 18,
   "metadata": {},
   "outputs": [
    {
     "data": {
      "text/plain": [
       "['lol/data_batch_1.bin',\n",
       " 'lol/data_batch_2.bin',\n",
       " 'lol/data_batch_3.bin',\n",
       " 'lol/data_batch_4.bin',\n",
       " 'lol/data_batch_5.bin']"
      ]
     },
     "execution_count": 18,
     "metadata": {},
     "output_type": "execute_result"
    }
   ],
   "source": [
    "filenames"
   ]
  },
  {
   "cell_type": "code",
   "execution_count": 28,
   "metadata": {},
   "outputs": [
    {
     "name": "stderr",
     "output_type": "stream",
     "text": [
      "/usr/lib/python3.4/importlib/_bootstrap.py:321: FutureWarning: Conversion of the second argument of issubdtype from `float` to `np.floating` is deprecated. In future, it will be treated as `np.float64 == np.dtype(float).type`.\n",
      "  return f(*args, **kwds)\n"
     ]
    }
   ],
   "source": [
    "import tensorflow as tf"
   ]
  },
  {
   "cell_type": "code",
   "execution_count": 29,
   "metadata": {},
   "outputs": [],
   "source": [
    "filename_queue = tf.train.string_input_producer(filenames)"
   ]
  },
  {
   "cell_type": "code",
   "execution_count": 33,
   "metadata": {},
   "outputs": [],
   "source": [
    "class AB(object):\n",
    "    pass"
   ]
  },
  {
   "cell_type": "code",
   "execution_count": 34,
   "metadata": {},
   "outputs": [],
   "source": [
    "r = AB()"
   ]
  },
  {
   "cell_type": "code",
   "execution_count": 41,
   "metadata": {},
   "outputs": [],
   "source": [
    "r.first = 1\n",
    "r.second = \"hi\""
   ]
  },
  {
   "cell_type": "code",
   "execution_count": 44,
   "metadata": {},
   "outputs": [
    {
     "data": {
      "text/plain": [
       "{'first': 1, 'second': 'hi'}"
      ]
     },
     "execution_count": 44,
     "metadata": {},
     "output_type": "execute_result"
    }
   ],
   "source": [
    "vars(r)"
   ]
  },
  {
   "cell_type": "code",
   "execution_count": 45,
   "metadata": {},
   "outputs": [],
   "source": [
    "class CIFAR10Record(object):\n",
    "    pass\n",
    "\n",
    "result = CIFAR10Record()\n",
    "\n",
    "# Dimensions of the images in the CIFAR-10 dataset.\n",
    "# See http://www.cs.toronto.edu/~kriz/cifar.html for a description of the\n",
    "# input format.\n",
    "label_bytes = 1  # 2 for CIFAR-100\n",
    "result.height = 32\n",
    "result.width = 32\n",
    "result.depth = 3\n",
    "image_bytes = result.height * result.width * result.depth\n",
    "# Every record consists of a label followed by the image, with a\n",
    "# fixed number of bytes for each.\n",
    "record_bytes = label_bytes + image_bytes\n",
    "\n",
    "# Read a record, getting filenames from the filename_queue.  No\n",
    "# header or footer in the CIFAR-10 format, so we leave header_bytes\n",
    "# and footer_bytes at their default of 0.\n",
    "reader = tf.FixedLengthRecordReader(record_bytes=record_bytes)\n",
    "result.key, value = reader.read(filename_queue)\n",
    "\n",
    "# Convert from a string to a vector of uint8 that is record_bytes long.\n",
    "record_bytes = tf.decode_raw(value, tf.uint8)\n",
    "\n",
    "# The first bytes represent the label, which we convert from uint8->int32.\n",
    "result.label = tf.cast(\n",
    "  tf.strided_slice(record_bytes, [0], [label_bytes]), tf.int32)\n",
    "\n",
    "# The remaining bytes after the label represent the image, which we reshape\n",
    "# from [depth * height * width] to [depth, height, width].\n",
    "depth_major = tf.reshape(\n",
    "  tf.strided_slice(record_bytes, [label_bytes],\n",
    "                   [label_bytes + image_bytes]),\n",
    "  [result.depth, result.height, result.width])\n",
    "\n",
    "# Convert from [depth, height, width] to [height, width, depth].\n",
    "result.uint8image = tf.transpose(depth_major, [1, 2, 0])"
   ]
  },
  {
   "cell_type": "code",
   "execution_count": 47,
   "metadata": {},
   "outputs": [
    {
     "data": {
      "text/plain": [
       "{'depth': 3,\n",
       " 'height': 32,\n",
       " 'key': <tf.Tensor 'ReaderReadV2:0' shape=() dtype=string>,\n",
       " 'label': <tf.Tensor 'Cast:0' shape=(?,) dtype=int32>,\n",
       " 'uint8image': <tf.Tensor 'transpose:0' shape=(32, 32, 3) dtype=uint8>,\n",
       " 'width': 32}"
      ]
     },
     "execution_count": 47,
     "metadata": {},
     "output_type": "execute_result"
    }
   ],
   "source": [
    "vars(result)"
   ]
  },
  {
   "cell_type": "code",
   "execution_count": 49,
   "metadata": {},
   "outputs": [
    {
     "data": {
      "text/plain": [
       "{'_consumers': [<tf.Operation 'StridedSlice' type=StridedSlice>,\n",
       "  <tf.Operation 'StridedSlice_1' type=StridedSlice>],\n",
       " '_dtype': tf.uint8,\n",
       " '_handle_data': None,\n",
       " '_id': 19,\n",
       " '_op': <tf.Operation 'DecodeRaw' type=DecodeRaw>,\n",
       " '_shape_val': TensorShape([Dimension(None)]),\n",
       " '_value_index': 0}"
      ]
     },
     "execution_count": 49,
     "metadata": {},
     "output_type": "execute_result"
    }
   ],
   "source": [
    "vars(record_bytes)"
   ]
  },
  {
   "cell_type": "code",
   "execution_count": 50,
   "metadata": {},
   "outputs": [
    {
     "data": {
      "text/plain": [
       "1"
      ]
     },
     "execution_count": 50,
     "metadata": {},
     "output_type": "execute_result"
    }
   ],
   "source": [
    "label_bytes"
   ]
  },
  {
   "cell_type": "code",
   "execution_count": 51,
   "metadata": {},
   "outputs": [
    {
     "data": {
      "text/plain": [
       "3072"
      ]
     },
     "execution_count": 51,
     "metadata": {},
     "output_type": "execute_result"
    }
   ],
   "source": [
    "image_bytes"
   ]
  },
  {
   "cell_type": "code",
   "execution_count": 52,
   "metadata": {},
   "outputs": [
    {
     "data": {
      "text/plain": [
       "{'_reader_ref': <tf.Tensor 'FixedLengthRecordReaderV2:0' shape=() dtype=resource>,\n",
       " '_supports_serialize': False}"
      ]
     },
     "execution_count": 52,
     "metadata": {},
     "output_type": "execute_result"
    }
   ],
   "source": [
    "vars(reader)"
   ]
  },
  {
   "cell_type": "code",
   "execution_count": 1,
   "metadata": {},
   "outputs": [
    {
     "name": "stderr",
     "output_type": "stream",
     "text": [
      "/usr/lib/python3.4/importlib/_bootstrap.py:321: FutureWarning: Conversion of the second argument of issubdtype from `float` to `np.floating` is deprecated. In future, it will be treated as `np.float64 == np.dtype(float).type`.\n",
      "  return f(*args, **kwds)\n"
     ]
    }
   ],
   "source": [
    "import memory_util"
   ]
  },
  {
   "cell_type": "code",
   "execution_count": null,
   "metadata": {},
   "outputs": [],
   "source": []
  }
 ],
 "metadata": {
  "kernelspec": {
   "display_name": "Python 3",
   "language": "python",
   "name": "python3"
  },
  "language_info": {
   "codemirror_mode": {
    "name": "ipython",
    "version": 3
   },
   "file_extension": ".py",
   "mimetype": "text/x-python",
   "name": "python",
   "nbconvert_exporter": "python",
   "pygments_lexer": "ipython3",
   "version": "3.4.3"
  }
 },
 "nbformat": 4,
 "nbformat_minor": 2
}
